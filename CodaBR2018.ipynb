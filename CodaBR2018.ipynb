{
 "cells": [
  {
   "cell_type": "markdown",
   "metadata": {},
   "source": [
    "---\n",
    "title: \"Descobrindo o SUS: uma análise das bases de dados públicas\"\n",
    "description: |\n",
    "  Este notebook foi criado especialmente para o CodaBR 2018. O seu objetivo é mostrar como extrair informações de algumas das principais bases de dados do SUS.\n",
    "author:\n",
    "  - name: Rodrigo Silva \n",
    "    url: https://github.com/rdsilva\n",
    "    affiliation: LAIS - Laboratório de Inovação Tecnológica em Saúde\n",
    "    affiliation_url: http://lais.huol.ufrn.br/\n",
    "date: \"2018-11-19\"\n",
    "output: radix::radix_article\n",
    "---\n",
    "\n",
    "\n",
    "\n",
    "<style>\n",
    "  body {\n",
    "    text-align: justify,\n",
    "    width\n",
    "  }\n",
    "</style>\n",
    "\n",
    "# 1. Quem é Rodrigo Silva?\n",
    "\n",
    "![Sede da Organização Pan-Americana de Saúde - Washington, D.C.](eu.jpg)\n",
    "\n",
    "Rodrigo Silva é formado em Engenharia de Computação pela Universidade Federal do Rio Grande do Norte (UFRN), com Especialização em Big Data pelo Instituto Metropole Digital (IMD/UFRN) e mestrando em Gestão e Inovação em Saúde (EBSERH/UFRN). Há 6 anos pesquisando na área de saúde, especificamente em politicas de saúde pública, vem desenvolvendo tecnologias em conjunto com o Ministério da Saúde, Fiocruz, OPAS e outras intituições não menos importantes. Todos estes anos de pesquisa e desenvolvimento renderam 26 registros de software e 3 patentes.\n",
    "\n",
    "# 2. Sobre o que vamos falar aqui?\n",
    "\n",
    "O SUS é \"recheado\" de sistemas de informação. Um ex-diretor do DATASUS recentemente disse que existiriam mais de 300 softwares mantidos e administrados pelo Departamento de Informática do Ministério da Saúde. Mas hoje vamos focar em alguns considerados os principais **CNES**, **FNS**, **SIH**, **ANS** e **DAB**.\n",
    "\n",
    "| Sigla | Nome | Dados Encontrados |\n",
    "|:---:|:----:|:---------:|\n",
    "|CNES|Cadastro Nacional de Estabelecimentos de Saúde|Estabelecimentos, Profissionais, Equipamentos, Vínculos, etc...|\n",
    "|SIH|Sistema de Informações Hospitalares|Internações, Procedimentos, Valores, etc...|\n",
    "|FNS|Fundo Nacional de Saúde|Repasse Financeiro Fundo a Fundo|\n",
    "|ANS|Agência Nacional de Saúde Suplementar|Saúde Privada|\n",
    "|DAB|Departamento de Atenção Básica|Cobertura da Atenção Básica|\n",
    "\n",
    "# 3. Mãos na Massa\n",
    "\n",
    "\n",
    "\n",
    "## 3.1. Brasil\n",
    "\n",
    "Este tópico é apenas para carregarmos os dados referentes ao Brasil, seus municípios, estados, regiões, população, referente aos últimos 20 anos.\n",
    "\n",
    "Os dados reais de populaçõa brasileira só são divulgados, basicamente, a cada 10 anos. Entretanto há um trabalho entre diversos órgãos do governo federal que realizam calculos estimativos de população. Estes calculos levam em conta dados de Natalidade e Mortalidade, bem como algums outras projeções estatisticas como migração populacional."
   ]
  },
  {
   "cell_type": "code",
   "execution_count": null,
   "metadata": {},
   "outputs": [],
   "source": [
    "l"
   ]
  },
  {
   "cell_type": "code",
   "execution_count": null,
   "metadata": {},
   "outputs": [],
   "source": [
    "populacao <- read.csv2('dados/brasil/brazil-population-1998-2017.csv', header = TRUE)\n",
    "\n",
    "paged_table(populacao)"
   ]
  },
  {
   "cell_type": "code",
   "execution_count": null,
   "metadata": {},
   "outputs": [],
   "source": [
    "%%R\n",
    "brasil <- populacao %>%\n",
    "  filter(year == 2017) %>%\n",
    "  select(code, city, state, region, population) %>%\n",
    "  distinct()"
   ]
  },
  {
   "cell_type": "code",
   "execution_count": null,
   "metadata": {},
   "outputs": [],
   "source": [
    "%%R\n",
    "write.csv2(brasil, 'brasil-2017.csv', row.names = FALSE)"
   ]
  },
  {
   "cell_type": "markdown",
   "metadata": {},
   "source": [
    "## 3.2. Estabelecimentos de Saúde"
   ]
  },
  {
   "cell_type": "code",
   "execution_count": null,
   "metadata": {},
   "outputs": [],
   "source": [
    "%%R\n",
    "estabelecimentos <- read.csv2('dados/cnes/BASE_DE_DADOS_CNES_201809/tbEstabelecimento201809.csv', header = TRUE)\n",
    "\n",
    "paged_table(estabelecimentos)"
   ]
  },
  {
   "cell_type": "code",
   "execution_count": null,
   "metadata": {},
   "outputs": [],
   "source": [
    "%%R\n",
    "estabelecimentos_reduced <- subset(estabelecimentos, \n",
    "                                   select = c('CO_CNES', \n",
    "                                              'TP_UNIDADE', \n",
    "                                              'CO_MUNICIPIO_GESTOR', \n",
    "                                              'ST_CONEXAO_INTERNET',\n",
    "                                              'CO_CLIENTELA'))"
   ]
  },
  {
   "cell_type": "code",
   "execution_count": null,
   "metadata": {},
   "outputs": [],
   "source": [
    "%%R\n",
    "estabelecimentos_reduced <- merge(estabelecimentos_reduced, brasil, \n",
    "                                  by.x = 'CO_MUNICIPIO_GESTOR', \n",
    "                                  by.y='code', \n",
    "                                  all.x=TRUE)"
   ]
  },
  {
   "cell_type": "markdown",
   "metadata": {},
   "source": [
    "### 3.2.1 Nível de Atenção à Saúde\n",
    "\n",
    "Iremos começar a nossa avaliação pelo **Tipo de Gestão** de cada estabelecimento de saúde, em outras palavras pelo seu nível de **Atenção à Saúde**. Para esta avaliação é necessário olharmos duas tabelas, ou seja, dois arquivos *rlEstabProgFundo* e *tbGestao*. A primeira tabela faz a relação entre estabelecimentos e o código do tipo de gestão, a segunda tabela nos traduz o código do tipo de gestão."
   ]
  },
  {
   "cell_type": "code",
   "execution_count": null,
   "metadata": {},
   "outputs": [],
   "source": [
    "%%R\n",
    "tp_gestao <- read.csv2('dados/cnes/BASE_DE_DADOS_CNES_201809/tbGestao201809.csv', header = TRUE)"
   ]
  },
  {
   "cell_type": "code",
   "execution_count": null,
   "metadata": {},
   "outputs": [],
   "source": [
    "%%R\n",
    "rl_estab_gestao <- read.csv2('dados/cnes/BASE_DE_DADOS_CNES_201809/rlEstabProgFundo201809.csv', header=TRUE)"
   ]
  },
  {
   "cell_type": "code",
   "execution_count": null,
   "metadata": {},
   "outputs": [],
   "source": [
    "%%R\n",
    "lista_estabelecimentos_gestao <- rl_estab_gestao %>%\n",
    "                                  select(CO_UNIDADE, CO_ATIVIDADE) %>%\n",
    "                                  mutate(CO_CNES = substr(CO_UNIDADE, 7, 13))"
   ]
  },
  {
   "cell_type": "code",
   "execution_count": null,
   "metadata": {},
   "outputs": [],
   "source": [
    "%%R\n",
    "estabelecimentos_nivel_atencao <- merge(estabelecimentos_reduced, \n",
    "                                        lista_estabelecimentos_gestao,\n",
    "                                        by = 'CO_CNES')"
   ]
  },
  {
   "cell_type": "markdown",
   "metadata": {},
   "source": [
    "<aside>Note que esta operação gera mais entradas que o número de estabelecimentos, isto ocorre devido o fato de poder existir mais de um serviço dentro de um mesmo estabelecimento.</aside>"
   ]
  },
  {
   "cell_type": "code",
   "execution_count": null,
   "metadata": {},
   "outputs": [],
   "source": [
    "%%R\n",
    "estabelecimentos_nivel_atencao <- merge(estabelecimentos_nivel_atencao, \n",
    "                                        tp_gestao,\n",
    "                                        by.x = 'CO_ATIVIDADE',\n",
    "                                        by.y = 'CO_GESTAO')"
   ]
  },
  {
   "cell_type": "code",
   "execution_count": null,
   "metadata": {},
   "outputs": [],
   "source": [
    "%%R\n",
    "estabelecimentos_nivel_atencao_sumarizado <- estabelecimentos_nivel_atencao %>%\n",
    "  group_by(DS_GESTAO) %>%\n",
    "  summarise(total = n())"
   ]
  },
  {
   "cell_type": "code",
   "execution_count": null,
   "metadata": {},
   "outputs": [],
   "source": [
    "%%R\n",
    "estabelecimentos_nivel_atencao_regiao <- estabelecimentos_nivel_atencao %>%\n",
    "  group_by(region, DS_GESTAO) %>%\n",
    "  summarise(total = n())"
   ]
  },
  {
   "cell_type": "code",
   "execution_count": null,
   "metadata": {},
   "outputs": [],
   "source": [
    "%%R\n",
    "write.csv2(estabelecimentos_nivel_atencao_regiao, 'estab_regiao.csv', row.names = FALSE)"
   ]
  },
  {
   "cell_type": "markdown",
   "metadata": {},
   "source": [
    "### 3.2.2 Infraestrutura Atenção Básica\n",
    "\n",
    "Em vista do que acabamos de ver, vamos fazer um recorte olhando apenas a Atenção Básica! \n",
    "Vocês podem facilmente apenas filtrar o data frame **estabelecimentos_nivel_atencao** mas estamos aqui para aprender a manipular os dados do SUS, então vamos fazer com a mão na massa."
   ]
  },
  {
   "cell_type": "code",
   "execution_count": null,
   "metadata": {},
   "outputs": [],
   "source": [
    "%%R\n",
    "lista_estab_ab <- rl_estab_gestao %>%\n",
    "  filter(CO_ATIVIDADE == 1) %>%\n",
    "  select(CO_UNIDADE) %>%\n",
    "  mutate(CO_CNES = substr(CO_UNIDADE, 7, 13))"
   ]
  },
  {
   "cell_type": "code",
   "execution_count": null,
   "metadata": {},
   "outputs": [],
   "source": [
    "%%R\n",
    "estabelecimentos_ab <- subset(estabelecimentos_reduced, \n",
    "                              estabelecimentos_reduced$CO_CNES %in% lista_estab_ab$CO_CNES)"
   ]
  },
  {
   "cell_type": "code",
   "execution_count": null,
   "metadata": {},
   "outputs": [],
   "source": [
    "%%R\n",
    "estabelecimentos_ab_regiao <- estabelecimentos_ab %>%\n",
    "  group_by(region) %>%\n",
    "  summarise(total = n())"
   ]
  },
  {
   "cell_type": "code",
   "execution_count": null,
   "metadata": {},
   "outputs": [],
   "source": [
    "%%R\n",
    "estabelecimentos_ab_estados <- estabelecimentos_ab %>%\n",
    "  group_by(state) %>%\n",
    "  summarise(total = n())"
   ]
  },
  {
   "cell_type": "markdown",
   "metadata": {},
   "source": [
    "### 3.2.3 Estabelecimentos com Leitos por Tipo\n",
    "\n",
    "Bem, já vimos o bastante para Atenção Básica, vamos agora focar na Atenção Especializada, quantos leitos existem no Brasil?\n",
    "Para este estudo precisamos olhar para a tabela *rlEstabComplementar* e para a tabela *tbLeito*. A primeira tras a relação estabelecimento, tipo de leito e quantidade de leito disponível, a segunda nós tras informações descricionárias do tipo de leito."
   ]
  },
  {
   "cell_type": "code",
   "execution_count": null,
   "metadata": {},
   "outputs": [],
   "source": [
    "%%R\n",
    "leitos <- read.csv2('dados/cnes/BASE_DE_DADOS_CNES_201809/rlEstabComplementar201809.csv', header = TRUE)"
   ]
  },
  {
   "cell_type": "code",
   "execution_count": null,
   "metadata": {},
   "outputs": [],
   "source": [
    "%%R\n",
    "tp_leitos <- read.csv2('dados/cnes/BASE_DE_DADOS_CNES_201809/tbLeito201809.csv', header = TRUE)"
   ]
  },
  {
   "cell_type": "code",
   "execution_count": null,
   "metadata": {},
   "outputs": [],
   "source": [
    "%%R\n",
    "leitos_subset <- subset(leitos, select=c('CO_UNIDADE', 'CO_LEITO', 'QT_EXIST', 'QT_CONTR', 'QT_SUS'))"
   ]
  },
  {
   "cell_type": "code",
   "execution_count": null,
   "metadata": {},
   "outputs": [],
   "source": [
    "%%R\n",
    "leitos_subset <- merge(leitos_subset, tp_leitos, by = 'CO_LEITO')"
   ]
  },
  {
   "cell_type": "code",
   "execution_count": null,
   "metadata": {},
   "outputs": [],
   "source": [
    "%%R\n",
    "leitos_subset_tipo <- leitos_subset %>%\n",
    "  group_by(DS_LEITO) %>%\n",
    "  summarise(Total = n())"
   ]
  },
  {
   "cell_type": "markdown",
   "metadata": {},
   "source": [
    "Recriando a variável **CO_CNES** para então recuperarmos o Endereço do estabelecimento analisarmos estes dados sobre Leitos por regiões do Brasil."
   ]
  },
  {
   "cell_type": "code",
   "execution_count": null,
   "metadata": {},
   "outputs": [],
   "source": [
    "%%R\n",
    "leitos_subset$CO_CNES <- substr(leitos_subset$CO_UNIDADE, 7, 13) "
   ]
  },
  {
   "cell_type": "code",
   "execution_count": null,
   "metadata": {},
   "outputs": [],
   "source": [
    "%%R\n",
    "estabelecimentos_enderecos <- subset(estabelecimentos, select=c(\"CO_CNES\", \"CO_MUNICIPIO_GESTOR\"))"
   ]
  },
  {
   "cell_type": "code",
   "execution_count": null,
   "metadata": {},
   "outputs": [],
   "source": [
    "%%R\n",
    "estabelecimentos_enderecos <- merge(estabelecimentos_enderecos, brasil,\n",
    "                                    by.x = 'CO_MUNICIPIO_GESTOR',\n",
    "                                    by.y = 'code',\n",
    "                                    all.x = TRUE)"
   ]
  },
  {
   "cell_type": "code",
   "execution_count": null,
   "metadata": {},
   "outputs": [],
   "source": [
    "%%R\n",
    "leitos_subset <- merge(leitos_subset, estabelecimentos_enderecos,\n",
    "                       by = 'CO_CNES',\n",
    "                       all.x = TRUE)"
   ]
  },
  {
   "cell_type": "code",
   "execution_count": null,
   "metadata": {},
   "outputs": [],
   "source": [
    "%%R\n",
    "leitos_subset_regiao <- leitos_subset %>%\n",
    "  group_by(DS_LEITO, region) %>%\n",
    "  summarise(Total = n())"
   ]
  },
  {
   "cell_type": "markdown",
   "metadata": {},
   "source": [
    "Vamos observar apenas UTIs"
   ]
  },
  {
   "cell_type": "code",
   "execution_count": null,
   "metadata": {},
   "outputs": [],
   "source": [
    "%%R\n",
    "leitos_subset$DS_LEITO <- as.character(leitos_subset$DS_LEITO)\n",
    "\n",
    "leitos_subset_uti_regiao <- leitos_subset %>%\n",
    "  filter(startsWith(DS_LEITO, 'UTI')) %>%\n",
    "  group_by(region) %>%\n",
    "  summarise(Total = n())"
   ]
  },
  {
   "cell_type": "markdown",
   "metadata": {},
   "source": [
    "### 3.2.4 Estabelecimentos com Latitude e Longitude\n",
    "\n",
    "Há alguns anos o Ministério da Saúde começou a fazer o referenciamento dos estabelecimentos através da posição geografica. Apesar de não ser a melhor forma, a mais simples são as coordenadas de Latitude e Longitude. Esta informação pode auxiliar no desenvolvimento de inúmeras soluções tecnologicas. Aqui vamos apenas avaliar quantos estabelecimentos já foram mapeados e plotar esses dados em um gráfico.\n",
    "\n",
    "Primeiramente, converter os dados para o formato adequado."
   ]
  },
  {
   "cell_type": "code",
   "execution_count": null,
   "metadata": {},
   "outputs": [],
   "source": [
    "%%R\n",
    "estabelecimentos$NU_LONGITUDE <- as.numeric(as.character(estabelecimentos$NU_LONGITUDE))\n",
    "estabelecimentos$NU_LATITUDE <- as.numeric(as.character(estabelecimentos$NU_LATITUDE))"
   ]
  },
  {
   "cell_type": "code",
   "execution_count": null,
   "metadata": {},
   "outputs": [],
   "source": [
    "%%R\n",
    "summary(estabelecimentos$NU_LONGITUDE)\n",
    "summary(estabelecimentos$NU_LATITUDE)"
   ]
  },
  {
   "cell_type": "markdown",
   "metadata": {},
   "source": [
    "<aside>Apenas 85.916 estabelecimentos já foram mapeados com as informações de posição geografica, aproximadamente 24% dos estabelecimentos. </aside>"
   ]
  },
  {
   "cell_type": "code",
   "execution_count": null,
   "metadata": {},
   "outputs": [],
   "source": [
    "%%R\n",
    "mapa_estabelecimentos <- getMap(resolution = \"high\")\n",
    "\n",
    "# recortando apenas o brasil\n",
    "plot(mapa_estabelecimentos,\n",
    "   xlim = c(-65, -55),\n",
    "   ylim = c(-35, 5),\n",
    "   asp = 1\n",
    ") \n",
    "\n",
    "# adicionando os pontos ao mapa\n",
    "points(estabelecimentos$NU_LONGITUDE, estabelecimentos$NU_LATITUDE, col = \"red\", cex = .6)"
   ]
  },
  {
   "cell_type": "markdown",
   "metadata": {},
   "source": [
    "### 3.2.5 Estabelecimentos com Internet\n",
    "\n",
    "Uma portaria do então Ministro da Saúde, Ricardo Barros, do final de 2016 tornava obrigatório o uso deo e-SUS, sistema de prontuário eletrônico de saúde para a atenção básica. Este sistema, apesar de 6 cenários diferentes de implantação, necessariamente precisa de internet em ao menos um estabelecimento para sincronizar os dados com o DATASUS. Este é apenas um dos sistemas que necessitam de internet."
   ]
  },
  {
   "cell_type": "code",
   "execution_count": null,
   "metadata": {},
   "outputs": [],
   "source": [
    "%%R\n",
    "estabelecimentos_internet <- subset(estabelecimentos, select = c('CO_CNES', 'ST_CONEXAO_INTERNET'))"
   ]
  },
  {
   "cell_type": "code",
   "execution_count": null,
   "metadata": {},
   "outputs": [],
   "source": [
    "%%R\n",
    "summary(estabelecimentos_internet)"
   ]
  },
  {
   "cell_type": "code",
   "execution_count": null,
   "metadata": {},
   "outputs": [],
   "source": [
    "%%R\n",
    "estabelecimentos_internet <- merge(estabelecimentos_internet, estabelecimentos_enderecos, by = 'CO_CNES')"
   ]
  },
  {
   "cell_type": "code",
   "execution_count": null,
   "metadata": {},
   "outputs": [],
   "source": [
    "%%R\n",
    "estabelecimentos_internet_regiao <- estabelecimentos_internet %>%\n",
    "  group_by(ST_CONEXAO_INTERNET, region) %>%\n",
    "  summarise(Total = n())"
   ]
  },
  {
   "cell_type": "markdown",
   "metadata": {},
   "source": [
    "### 3.2.6 Estabelecimentos \"Sempre Aberto\"\n",
    "\n",
    "Estabelecimentos de saúde Sempre Abertos são todos aqueles que fazem Urgência/Emergência ou dão Plantão Clínico. Não há muito o que explicar, são todos aqueles de funcionamento 24h."
   ]
  },
  {
   "cell_type": "code",
   "execution_count": null,
   "metadata": {},
   "outputs": [],
   "source": [
    "%%R\n",
    "estabelecimentos_24h <- subset(estabelecimentos, select = c('CO_CNES', 'TP_ESTAB_SEMPRE_ABERTO'))"
   ]
  },
  {
   "cell_type": "code",
   "execution_count": null,
   "metadata": {},
   "outputs": [],
   "source": [
    "%%R\n",
    "summary(estabelecimentos_24h)"
   ]
  },
  {
   "cell_type": "code",
   "execution_count": null,
   "metadata": {},
   "outputs": [],
   "source": [
    "%%R\n",
    "estabelecimentos_24h <- merge(estabelecimentos_24h, estabelecimentos_enderecos, by = 'CO_CNES')"
   ]
  },
  {
   "cell_type": "code",
   "execution_count": null,
   "metadata": {},
   "outputs": [],
   "source": [
    "%%R\n",
    "estabelecimentos_24h_regiao <- estabelecimentos_24h %>%\n",
    "  group_by(TP_ESTAB_SEMPRE_ABERTO, region) %>%\n",
    "  summarise(Total = n())"
   ]
  },
  {
   "cell_type": "markdown",
   "metadata": {},
   "source": [
    "### 3.2.7 Estabelecimentos por Tipo de Clientela\n",
    "\n",
    "Não leve para o lado \"ruim\" da interpretação. Os estabelecimentos de saúde também podem ser classificados de acordo com o tipo de clientela que recebem, isso não tem nada a ver com classe social ou politica. Tipo de Clientela é relacionado ao tipo de demanda recebida pelo estabelecimento. As vezes podemos escutar uma referência a este parametro como \"Hospital Porta Aberta\" ou \"Unidade Porta Fechada\"."
   ]
  },
  {
   "cell_type": "code",
   "execution_count": null,
   "metadata": {},
   "outputs": [],
   "source": [
    "%%R\n",
    "tp_clientela <- read.csv2('dados/cnes/BASE_DE_DADOS_CNES_201809/tbFluxoDadosClientela201809.csv', header = TRUE)"
   ]
  },
  {
   "cell_type": "code",
   "execution_count": null,
   "metadata": {},
   "outputs": [],
   "source": [
    "%%R\n",
    "estabelecimento_clientela <- subset(estabelecimentos, select = c('CO_CNES', 'CO_CLIENTELA'))"
   ]
  },
  {
   "cell_type": "code",
   "execution_count": null,
   "metadata": {},
   "outputs": [],
   "source": [
    "%%R\n",
    "estabelecimento_clientela <- merge(estabelecimento_clientela, tp_clientela)"
   ]
  },
  {
   "cell_type": "code",
   "execution_count": null,
   "metadata": {},
   "outputs": [],
   "source": [
    "%%R\n",
    "estabelecimento_clientela <- merge(estabelecimento_clientela, estabelecimentos_enderecos, by = 'CO_CNES')"
   ]
  },
  {
   "cell_type": "code",
   "execution_count": null,
   "metadata": {},
   "outputs": [],
   "source": [
    "%%R\n",
    "estabelecimento_clientela_regiao <- estabelecimento_clientela %>%\n",
    "  group_by(DS_CLIENTELA, region) %>%\n",
    "  summarise(Total = n())"
   ]
  },
  {
   "cell_type": "markdown",
   "metadata": {},
   "source": [
    "Como a gente pode observar, há uma oferta disparada de *Demanda Referenciada* no Sudeste em relação aos demais estados. Isso é natural e já esperado, visto o fato de que muitos brasileiros se deslocam para os estados do sudeste para realizarem exames complexos, tratamentos e transplantes.\n",
    "\n",
    "### 3.2.8 Estabelecimentos SUS / Não SUS\n",
    "\n",
    "Todo estabelecimento de saúde deve está registrado junto ao SUS, ou seja, todos estabelecimento de saúde, mesmo que seja uma clinica particular de apenas uma sala, deve possuir o seu **Código CNES**. Para esta análise é necessário utilizar duas tabelas secundárias: *tbConvenio* e *rlEstabAtendPrestConv*. A primeira tabela citada descreve os tipos de convênios dos estabelecimentos, a segunda tabela faz o mapeamento dos estabelecimentos e sua forma de funcionamento. \n",
    "\n",
    "Lembro apenas que estabelecimentos públicos são exclusivamente públicos, ou seja, SUS. Contúdo estabelecimentos de saúde privados podem ser contabilizados também como SUS, em vista de convênios como os de prestação de serviço de Cirurgias Especializadas e/ou Leitos Hospitalares."
   ]
  },
  {
   "cell_type": "code",
   "execution_count": null,
   "metadata": {},
   "outputs": [],
   "source": [
    "%%R\n",
    "estabelecimento_convenio <- read.csv2('dados/cnes/BASE_DE_DADOS_CNES_201809/rlEstabAtendPrestConv201809.csv', header = TRUE)"
   ]
  },
  {
   "cell_type": "code",
   "execution_count": null,
   "metadata": {},
   "outputs": [],
   "source": [
    "%%R\n",
    "estabelecimento_convenio_reduced <- subset(estabelecimento_convenio, select = c('CO_UNIDADE', 'CO_CONVENIO'))\n",
    "\n",
    "estabelecimento_convenio_reduced$CO_CNES <- substr(estabelecimento_convenio_reduced$CO_UNIDADE, 7, 13)"
   ]
  },
  {
   "cell_type": "code",
   "execution_count": null,
   "metadata": {},
   "outputs": [],
   "source": [
    "%%R\n",
    "tp_convenio <- read.csv2('dados/cnes/BASE_DE_DADOS_CNES_201809/tbConvenio201809.csv', header = TRUE)"
   ]
  },
  {
   "cell_type": "code",
   "execution_count": null,
   "metadata": {},
   "outputs": [],
   "source": [
    "%%R\n",
    "estabelecimento_convenio_reduced <- merge(estabelecimento_convenio_reduced, tp_convenio)"
   ]
  },
  {
   "cell_type": "code",
   "execution_count": null,
   "metadata": {},
   "outputs": [],
   "source": [
    "%%R\n",
    "estabelecimento_convenio_endereco <- merge(estabelecimento_convenio_reduced, \n",
    "                                          estabelecimentos_enderecos, \n",
    "                                          by = 'CO_CNES')"
   ]
  },
  {
   "cell_type": "code",
   "execution_count": null,
   "metadata": {},
   "outputs": [],
   "source": [
    "%%R\n",
    "estab_conv_sp <- estabelecimento_convenio_endereco %>%\n",
    "  group_by(DS_CONVENIO, city) %>%\n",
    "  filter(city == 'São Paulo') %>%\n",
    "  summarise(Total = n())"
   ]
  },
  {
   "cell_type": "markdown",
   "metadata": {},
   "source": [
    "> Desafio : Quantos estabelecimentos de saúde da Atenção Primária são SUS e quantos são Privados???\n",
    "\n",
    "\n",
    "> Extra : Caso queira descobrir qual o tipo de atendimento prestado pelo estabelecimento ou tipo de convênio, basta olhar a tabela *tbAtendimentoPrestado*.\n",
    "\n",
    "### 3.2.9 Estabelecimentos Polo de Telessaúde\n",
    "\n",
    "Telessaúde é uma política internacional que tem por objetivo levar um serviço de saúde mais qualificado para áreas remotas ou com difícil acesso à saúde qualificada. Bastante usado no mundo todo este programa desembarcou no Brasil em 2007, pela portaria MS 35 de Janeiro daquele ano. Dentro do programa contamos com 3 modalidades: teleconsultoria, tele-educação e telediagnóstico. Em nenhuma hipótese é permitido um relacionamento entre paciente e profissional de saúde dentro do escopo de Telessaúde.\n",
    "\n",
    "Para esta análise se faz necessário olhar para a tablea *rlEstabTeleCnes*."
   ]
  },
  {
   "cell_type": "code",
   "execution_count": null,
   "metadata": {},
   "outputs": [],
   "source": [
    "%%R\n",
    "estabelecimento_telessaude <- read.csv2('dados/cnes/BASE_DE_DADOS_CNES_201809/rlEstabTeleCnes201809.csv', header = TRUE)"
   ]
  },
  {
   "cell_type": "code",
   "execution_count": null,
   "metadata": {},
   "outputs": [],
   "source": [
    "%%R\n",
    "estabelecimento_telessaude_reduced <- subset(estabelecimento_telessaude, select = c('CO_CNES', 'CO_MUNICIPIO'))"
   ]
  },
  {
   "cell_type": "code",
   "execution_count": null,
   "metadata": {},
   "outputs": [],
   "source": [
    "%%R\n",
    "estabelecimento_telessaude_reduced_endereco <- merge(estabelecimento_telessaude_reduced,\n",
    "                                                     estabelecimentos_enderecos, \n",
    "                                                     by = 'CO_CNES')"
   ]
  },
  {
   "cell_type": "code",
   "execution_count": null,
   "metadata": {},
   "outputs": [],
   "source": [
    "%%R\n",
    "estabelecimento_telessaude_regiao <- estabelecimento_telessaude_reduced_endereco %>%\n",
    "  group_by(region) %>%\n",
    "  summarise(Total = n())"
   ]
  },
  {
   "cell_type": "markdown",
   "metadata": {},
   "source": [
    "> Desafio : Checar se todas as unidades de fato tem conexão com a internet.\n",
    "\n",
    "\n",
    "### 3.2.10 SAMU 192\n",
    "\n",
    "O Serviço de Atendimento Móvel de Urgência funciona 24h e esta distribuido em mais da metade dos municípios do Brasil. Não se restringe a apenas veículos terrestres de 4 rodas, existem ainda aviões, barcos, motos e podem ser classificadas em Unidade de Suporte Básico e Unidade de Suporte Avançado.\n",
    "\n",
    "Para trabalhar com estes dados precisamos olhar para a tabela *rlEstabSamu*."
   ]
  },
  {
   "cell_type": "code",
   "execution_count": null,
   "metadata": {},
   "outputs": [],
   "source": [
    "%%R\n",
    "samu <- read.csv2('dados/cnes/BASE_DE_DADOS_CNES_201809/rlEstabSamu201809.csv', header = TRUE)\n",
    "paged_table(samu)"
   ]
  },
  {
   "cell_type": "markdown",
   "metadata": {},
   "source": [
    "Quantas unidades áreas, terrestres e maritimo que não estejam desativdas?"
   ]
  },
  {
   "cell_type": "code",
   "execution_count": null,
   "metadata": {},
   "outputs": [],
   "source": [
    "%%R\n",
    "samu_tipo <- samu %>%\n",
    "  summarise(veic_aereo = sum((CO_PREFIXO_AERONAVE != \"\") & !is.na(CO_PREFIXO_AERONAVE) & CO_DESATIVACAO == -1),\n",
    "            veic_terreste = sum((CO_PLACA != \"\") & !is.na(CO_PLACA) & CO_DESATIVACAO == -1),\n",
    "            veic_maritimo = sum((NU_EMBARCA_MARINHA != \"\") & !is.na(NU_EMBARCA_MARINHA) & CO_DESATIVACAO == -1))"
   ]
  },
  {
   "cell_type": "markdown",
   "metadata": {},
   "source": [
    "Qual o tempo de vida médio de uma SAMU?"
   ]
  },
  {
   "cell_type": "code",
   "execution_count": null,
   "metadata": {},
   "outputs": [],
   "source": [
    "%%R\n",
    "samu$DT_ATIVACAO <- as.Date(samu$DT_ATIVACAO, '%d/%m/%Y')\n",
    "samu$DT_DESATIVACAO <- as.Date(samu$DT_DESATIVACAO, '%d/%m/%Y')"
   ]
  },
  {
   "cell_type": "code",
   "execution_count": null,
   "metadata": {},
   "outputs": [],
   "source": [
    "%%R\n",
    "samu$ttl <- as.integer(difftime(samu$DT_DESATIVACAO, samu$DT_ATIVACAO, units = \"days\"))"
   ]
  },
  {
   "cell_type": "code",
   "execution_count": null,
   "metadata": {},
   "outputs": [],
   "source": [
    "%%R\n",
    "summary(samu$ttl)"
   ]
  },
  {
   "cell_type": "markdown",
   "metadata": {},
   "source": [
    "## 3.3. Recursos Humanos\n",
    "\n",
    "Outro grande foco de discussão na Saúde Pública do Brasil é o tal dos Recursos Humanos. Temos médicos suficientes? Precisamos de fato dos mais médicos? Quais são os pontos chaves para nesta área?\n",
    "\n",
    "A tabela que armazena os dados pessoais do profissional de saúde é *tbDadosProfissionalSus* mas a tabela que armazena os dados profissionais do profissional, como ocupação, carga horária e vinculo é a tabela *tbCargaHorariaSus*."
   ]
  },
  {
   "cell_type": "code",
   "execution_count": null,
   "metadata": {},
   "outputs": [],
   "source": [
    "%%R\n",
    "profissionais <- read.csv2('dados/cnes/BASE_DE_DADOS_CNES_201809/tbCargaHorariaSus201809.csv', header = TRUE)"
   ]
  },
  {
   "cell_type": "markdown",
   "metadata": {},
   "source": [
    "### 3.3.1. Profissionais de Saúde\n",
    "\n",
    "Quantos profissionais de saúde existem no Brasil? Médicos, enfermeiros, especialistas? Temos profissionais suficientes?\n",
    "\n",
    "| Família CBO | Código |\n",
    "|:---:|:---:|\n",
    "|2251|Médicos Clínicos|\n",
    "|2252|Médicos Especialidades Cirurgicas|\n",
    "|2253|Médicos Dignóstico e Terapêutico|\n",
    "\n",
    "<aside>Fonte: http://www.mtecbo.gov.br/cbosite/pages/pesquisas/BuscaPorEstrutura.jsf</aside>"
   ]
  },
  {
   "cell_type": "code",
   "execution_count": null,
   "metadata": {},
   "outputs": [],
   "source": [
    "%%R\n",
    "profissionais$CO_CBO <- as.character(profissionais$CO_CBO)\n",
    "\n",
    "medicos <- profissionais %>%\n",
    "  select(CO_UNIDADE, CO_PROFISSIONAL_SUS, CO_CBO, TP_SUS_NAO_SUS, QT_CARGA_HORARIA_AMBULATORIAL) %>%\n",
    "  filter(startsWith(CO_CBO, \"2251\") | startsWith(CO_CBO, \"2253\")  | startsWith(CO_CBO, \"2253\") )"
   ]
  },
  {
   "cell_type": "markdown",
   "metadata": {},
   "source": [
    "É mais que comum que o médico possua mais de um vínculo, então não devemos confiar no resultado acima, precisamos primeiros filtrar os vinculos multiplos."
   ]
  },
  {
   "cell_type": "code",
   "execution_count": null,
   "metadata": {},
   "outputs": [],
   "source": [
    "%%R\n",
    "medicos_unico <- medicos %>%\n",
    "  distinct(CO_PROFISSIONAL_SUS)"
   ]
  },
  {
   "cell_type": "markdown",
   "metadata": {},
   "source": [
    "Qual a média de vinculos, maximo e mínimo encontrados nos dados?"
   ]
  },
  {
   "cell_type": "code",
   "execution_count": null,
   "metadata": {},
   "outputs": [],
   "source": [
    "%%R\n",
    "medicos_vinculos <- medicos %>%\n",
    "  group_by(CO_PROFISSIONAL_SUS) %>%\n",
    "  summarise(Vinculos = n())"
   ]
  },
  {
   "cell_type": "code",
   "execution_count": null,
   "metadata": {},
   "outputs": [],
   "source": [
    "%%R\n",
    "mean(medicos_vinculos$Vinculos)"
   ]
  },
  {
   "cell_type": "markdown",
   "metadata": {},
   "source": [
    "### 3.3.2. Carga Horária\n",
    "\n",
    "A Carga Horária é um dos principais indicadores do processo de precarização do serviço e até mesmo fraude. Por muitas vezes o quantitativo de profissionais vinculados a um determinado serviço representa um repasse financeiro maior para a SMS e/ou estabelecimento. Desta forma, muitos gestores deixam de atualizar os dados de vínculos de profissionais desligados do serviço para não reduzir o montante recebido."
   ]
  },
  {
   "cell_type": "code",
   "execution_count": null,
   "metadata": {},
   "outputs": [],
   "source": [
    "%%R\n",
    "medico_ch <- medicos %>%\n",
    "  group_by(CO_PROFISSIONAL_SUS) %>%\n",
    "  summarise(CH_Total = sum(QT_CARGA_HORARIA_AMBULATORIAL))"
   ]
  },
  {
   "cell_type": "code",
   "execution_count": null,
   "metadata": {},
   "outputs": [],
   "source": [
    "%%R\n",
    "mean(medico_ch$CH_Total)"
   ]
  },
  {
   "cell_type": "code",
   "execution_count": null,
   "metadata": {},
   "outputs": [],
   "source": [
    "%%R\n",
    "summary(medico_ch$CH_Total )"
   ]
  },
  {
   "cell_type": "markdown",
   "metadata": {},
   "source": [
    "### 3.3.3. Profissional Equivalente e Postos de Trabalho\n",
    "\n",
    "Considerando uma Carga Horária Semanal \"normal\" de 40h, podemos facilmente inferir quantos profissionais equivalentes existem disponíveis no SUS. Se um profissional tem CH de 20h, significa que ele é 0,5 meio profissional equivalente, mas se ele tem CH de 80h, ele ocupa o \"espaço\" de 2 profissionais equivalentes."
   ]
  },
  {
   "cell_type": "code",
   "execution_count": null,
   "metadata": {},
   "outputs": [],
   "source": [
    "%%R\n",
    "medico_ch$prof_eq <- medico_ch$CH_Total/40"
   ]
  },
  {
   "cell_type": "code",
   "execution_count": null,
   "metadata": {},
   "outputs": [],
   "source": [
    "%%R\n",
    "# medico_ch[is.na(medico_ch)] <- 0\n",
    "\n",
    "medicos_quadro_geral <- medico_ch %>%\n",
    "  filter(CH_Total > 0) %>%\n",
    "  summarise(Medicos = n(),\n",
    "            Prof_eq = sum(prof_eq))"
   ]
  },
  {
   "cell_type": "markdown",
   "metadata": {},
   "source": [
    "Mas para entendermos quantos postos de trabalho há disponível no serviço de saúde, basta olhar quantos vinculos ativos existem. Este valor corresponde diretamente a quantidade de postos de trabalhos disponíveis."
   ]
  },
  {
   "cell_type": "code",
   "execution_count": null,
   "metadata": {},
   "outputs": [],
   "source": [
    "%%R\n",
    "medicos_quadro_geral$postos <- nrow(medicos)"
   ]
  },
  {
   "cell_type": "markdown",
   "metadata": {},
   "source": [
    "### 3.3.4. Equipes de Saúde da Família\n",
    "\n",
    "O Programa Saúde da Família surgiu ainda nos anos 2000 e foi a principal politica de reformulação da Atenção Básica, trazendo o conceito da Atenção Primária aplicada ao redor do mundo, aproximando os profissionais de saúde à população, tornando-o alguém conhecido e familiar. Em outras palavras, o médico da eSF é o antigo \"médico da família\".\n",
    "\n",
    "As equipes se organizam de diversas formas e em diversas modalidades. Dependendo da modalidade da equipe, ela deve minimamente atender de 3.000 a 4.000 pessoas. Mas há também o teto de eSF que um municipio pode manter.\n",
    "\n",
    "Olhando para o fator \"teto\", quantas equipes de fato temos e quantas ainda são necessárias para o programa finalmente se consolidar?\n",
    "\n",
    "Para avaliar os dados de equipes de saúde, devemos olhar para a tabela *tbEquipe*. Para identificar os diferentes tipos de equipes, vamos olhar para *tbTipoEquipe*."
   ]
  },
  {
   "cell_type": "code",
   "execution_count": null,
   "metadata": {},
   "outputs": [],
   "source": [
    "%%R\n",
    "equipes <- read.csv2('dados/cnes/BASE_DE_DADOS_CNES_201809/tbEquipe201809.csv', header = TRUE)"
   ]
  },
  {
   "cell_type": "code",
   "execution_count": null,
   "metadata": {},
   "outputs": [],
   "source": [
    "%%R\n",
    "tp_equipes <- read.csv2('dados/cnes/BASE_DE_DADOS_CNES_201809/tbTipoEquipe201809.csv', header = TRUE)"
   ]
  },
  {
   "cell_type": "code",
   "execution_count": null,
   "metadata": {},
   "outputs": [],
   "source": [
    "%%R\n",
    "tp_equipes$DS_EQUIPE <- as.character(tp_equipes$DS_EQUIPE) \n",
    "\n",
    "lista_esf <- subset(tp_equipes, startsWith(DS_EQUIPE, \"ESF\"))"
   ]
  },
  {
   "cell_type": "markdown",
   "metadata": {},
   "source": [
    "OBSERVAR OS VALORES ESF PARA EQUIPE E ESTRATEGIA."
   ]
  },
  {
   "cell_type": "code",
   "execution_count": null,
   "metadata": {},
   "outputs": [],
   "source": [
    "%%R\n",
    "equipes_sf <- equipes %>%\n",
    "  filter(TP_EQUIPE %in% lista_esf$TP_EQUIPE &\n",
    "           DT_DESATIVACAO == \"\" | is.na(DT_DESATIVACAO))"
   ]
  },
  {
   "cell_type": "code",
   "execution_count": null,
   "metadata": {},
   "outputs": [],
   "source": [
    "%%R\n",
    "populacao_br <- populacao %>%\n",
    "  filter(year == 2017) %>%\n",
    "  summarise(total = sum(population))"
   ]
  },
  {
   "cell_type": "code",
   "execution_count": null,
   "metadata": {},
   "outputs": [],
   "source": [
    "%%R\n",
    "equipes_sf_brasil <- equipes_sf %>%\n",
    "  summarise(eq_existente = n()) %>%\n",
    "  mutate(eq_desejado = populacao_br$total/2400,\n",
    "         eq_minimo = populacao_br$total/4000)"
   ]
  },
  {
   "cell_type": "markdown",
   "metadata": {},
   "source": [
    "### 3.3.5. Equipes de Saúde Bucal\n",
    "\n",
    "Pouco tempo após a criação do PSF ficou visível que se fazia necessário adicionar o atendimento de Saúde Bucal nas equipes, quantas equipes hoje possuem atendimento com saúde bucal?"
   ]
  },
  {
   "cell_type": "code",
   "execution_count": null,
   "metadata": {},
   "outputs": [],
   "source": [
    "%%R\n",
    "lista_esf_sb <- subset(lista_esf, grepl('SAUDE BUCAL', lista_esf$DS_EQUIPE))"
   ]
  },
  {
   "cell_type": "code",
   "execution_count": null,
   "metadata": {},
   "outputs": [],
   "source": [
    "%%R\n",
    "equipes_sf_brasil$ep_sb <- nrow(subset(equipes_sf, TP_EQUIPE %in% lista_esf_sb$TP_EQUIPE))"
   ]
  },
  {
   "cell_type": "markdown",
   "metadata": {},
   "source": [
    "### 3.3.6. Agente Comunitário de Saúde (515105)\n",
    "\n",
    "O processo de inserção do Agente Comunitário de Saúde veio com o movimento da igreja, de criar um elemento da própria comunidade como referência para auxiliar no processo do cuidado à saúde. Hoje o Brasil enfrenta uma crise de ACS que entraram na justiça solicitando relocação, por possuirem alguma doença que os impedia de exercer sua função ou por possuir formação superior a exigida no cargo. Atualmente o Ministério da Saúde está investindo no processo de capacitação destes profissionais para torná-los aptos a executarem papeis simples de atenção à saúde.\n",
    "\n",
    "Mas quantos ainda temos no país? O suficiente segundo o que preconiza o PNAB?"
   ]
  },
  {
   "cell_type": "code",
   "execution_count": null,
   "metadata": {},
   "outputs": [],
   "source": [
    "%%R\n",
    "lista_acs <- profissionais %>%\n",
    "  filter(CO_CBO == '515105')"
   ]
  },
  {
   "cell_type": "code",
   "execution_count": null,
   "metadata": {},
   "outputs": [],
   "source": [
    "%%R\n",
    "acs_brasil <- lista_acs %>%\n",
    "  summarise(acs_total = n()) %>%\n",
    "  mutate(acs_desejado = populacao_br$total/400,\n",
    "         acs_minimo = populacao_br$total/750)"
   ]
  },
  {
   "cell_type": "markdown",
   "metadata": {},
   "source": [
    "É preconizado no PNAB que deve existir pelo menos 12 ACS por eSF. \n",
    "<aside>Página 55 do documento (57 do pdf)</aside>"
   ]
  },
  {
   "cell_type": "code",
   "execution_count": null,
   "metadata": {},
   "outputs": [],
   "source": [
    "%%R\n",
    "acs_brasil$acs_esf <- equipes_sf_brasil$eq_existente*12\n",
    "\n",
    "acs_brasil$acs_esf_real <- acs_brasil$acs_total/equipes_sf_brasil$eq_existente"
   ]
  },
  {
   "cell_type": "markdown",
   "metadata": {},
   "source": [
    "### 3.3.7. Equipes NASF\n",
    "\n",
    "O Núcleo de Apoio à Saúde da Família foi criado para ampliar a abrangência e os escopos da Atenção Básica. Sào equipes constituidas por profissionais de diferentes áreas. Não constituem um estabelecimento nem são de acesso livre dos pacientes, quando necessária a intervenção são reguladas pela equipe da atenção básica. As equipes NASF são organizadas em 2 modalidades distintas atualmente."
   ]
  },
  {
   "cell_type": "code",
   "execution_count": null,
   "metadata": {},
   "outputs": [],
   "source": [
    "%%R\n",
    "lista_nasf <- subset(tp_equipes, startsWith(tp_equipes$DS_EQUIPE, 'NASF'))"
   ]
  },
  {
   "cell_type": "code",
   "execution_count": null,
   "metadata": {},
   "outputs": [],
   "source": [
    "%%R\n",
    "nasf <- subset(equipes, TP_EQUIPE %in% lista_nasf$TP_EQUIPE)"
   ]
  },
  {
   "cell_type": "code",
   "execution_count": null,
   "metadata": {},
   "outputs": [],
   "source": [
    "%%R\n",
    "nasf$TP_EQUIPE <- replace(nasf$TP_EQUIPE, nasf$TP_EQUIPE == 45, 7)\n",
    "\n",
    "nasf_geral <- nasf %>%\n",
    "  group_by(TP_EQUIPE) %>%\n",
    "  summarise(total = n())"
   ]
  },
  {
   "cell_type": "code",
   "execution_count": null,
   "metadata": {},
   "outputs": [],
   "source": [
    "%%R\n",
    "nasf_geral <- nasf_geral %>%\n",
    "  mutate(esf_maximo = if(TP_EQUIPE == 6) total*15 else total*7)"
   ]
  },
  {
   "cell_type": "markdown",
   "metadata": {},
   "source": [
    "> Desafio : Qual a proporção de equipes NASF para o total de eSF existente hoje no Brasil?\n",
    "\n",
    "## 3.4. Cobertura das Redes de Atenção\n",
    "\n",
    "Mensalmente o Departamento de Atenção Básica do SUS publica o relatório de Cobertura da Atenção Básica. Estas informações são retiradas dos informas municipais e de outros sistemas do SUS, como o CNES. Utiliza-se para o calculo a propoção eSF e População. Vamos olhar para estes dados e compararmos com o que podemos obter da Saúde Suplementar.\n",
    "\n",
    "### 3.4.1. Atenção Básica\n",
    "\n",
    "A Atenção Básica é a dita \"porta de entrada\" do SUS, é nível de atenção mais próximo da população, de acesso direto e responsável pelas principais políticas públicas de saúde. Por esses e outros motivos é comum medir a cobertura de um sistema de público de saúde a partir da sua atenção primária."
   ]
  },
  {
   "cell_type": "code",
   "execution_count": null,
   "metadata": {},
   "outputs": [],
   "source": [
    "%%R\n",
    "cobertura_ab <- read.csv2('dados/cobertura/cobertura_AB_2007_2018.csv', header = TRUE)\n",
    "\n",
    "paged_table(cobertura_ab)"
   ]
  },
  {
   "cell_type": "markdown",
   "metadata": {},
   "source": [
    "Por se tratarem de dados mensais e em vista que temos apenas os dados populacionas ano a ano, finalizando em 2017, iremos trabalhar olhando apenas para os dados de Dezembro de 2017. Vamos aproveitar e reduzir o data frame para trabalharmos apenas algumas variáveis desejadas para este momento."
   ]
  },
  {
   "cell_type": "code",
   "execution_count": null,
   "metadata": {},
   "outputs": [],
   "source": [
    "%%R\n",
    "cobertura_ab_reduced <- cobertura_ab %>%\n",
    "  filter(Ano == 2017 & Mes == 12) %>%\n",
    "  select(IBGE, Cob..Pop..Estimada.AB)"
   ]
  },
  {
   "cell_type": "code",
   "execution_count": null,
   "metadata": {},
   "outputs": [],
   "source": [
    "%%R\n",
    "names(cobertura_ab_reduced)[1] <- 'code'\n",
    "names(cobertura_ab_reduced)[2] <- 'pop_coberta_ab_percent'\n",
    "\n",
    "cobertura_ab_reduced$code <- substr(as.character(cobertura_ab_reduced$code),1,6)\n",
    "cobertura_ab_reduced$pop_coberta_ab_percent <- as.character(cobertura_ab_reduced$pop_coberta_ab_percent)\n",
    "\n",
    "cobertura_ab_reduced$pop_coberta_ab_percent <- gsub(\"%\", \"\", cobertura_ab_reduced$pop_coberta_ab_percent)\n",
    "cobertura_ab_reduced$pop_coberta_ab_percent <- gsub(\",\", \".\", cobertura_ab_reduced$pop_coberta_ab_percent)"
   ]
  },
  {
   "cell_type": "code",
   "execution_count": null,
   "metadata": {},
   "outputs": [],
   "source": [
    "%%R\n",
    "cobertura_brasil <- merge(brasil, cobertura_ab_reduced, by = 'code', all.x = TRUE)"
   ]
  },
  {
   "cell_type": "code",
   "execution_count": null,
   "metadata": {},
   "outputs": [],
   "source": [
    "%%R\n",
    "cobertura_brasil$pop_coberta_ab_percent <- as.numeric(cobertura_brasil$pop_coberta_ab_percent)\n",
    "\n",
    "cobertura_brasil$pop_coberta_ab <-\n",
    "  floor((cobertura_brasil$population*cobertura_brasil$pop_coberta_ab_percent)/100)"
   ]
  },
  {
   "cell_type": "markdown",
   "metadata": {},
   "source": [
    "### 3.4.2. Saúde Suplementar\n",
    "\n",
    "A Saúde Suplementar é responsável por toda a parte privada da saúde, planos e convênios, hospitais e clinicas. Todo o processo particular da saúde pública é regulada pela Saúde Suplementar. Assim sendo, iremos observar a parte da população que possui algum tipo de cobertura privada."
   ]
  },
  {
   "cell_type": "code",
   "execution_count": null,
   "metadata": {},
   "outputs": [],
   "source": [
    "%%R\n",
    "cobertura_ans <- read.csv2('dados/cobertura/cobertura-brasil-ANS.csv', header = TRUE)"
   ]
  },
  {
   "cell_type": "code",
   "execution_count": null,
   "metadata": {},
   "outputs": [],
   "source": [
    "%%R\n",
    "cobertura_ans_reduced <- cobertura_ans %>%\n",
    "  filter(ano == 2017) %>%\n",
    "  select(co_municipio, cobertura_ans)"
   ]
  },
  {
   "cell_type": "code",
   "execution_count": null,
   "metadata": {},
   "outputs": [],
   "source": [
    "%%R\n",
    "names(cobertura_ans_reduced)[1] <- 'code'"
   ]
  },
  {
   "cell_type": "code",
   "execution_count": null,
   "metadata": {},
   "outputs": [],
   "source": [
    "%%R\n",
    "cobertura_brasil <- merge(cobertura_brasil, cobertura_ans_reduced, all.x = TRUE, by = 'code')"
   ]
  },
  {
   "cell_type": "code",
   "execution_count": null,
   "metadata": {},
   "outputs": [],
   "source": [
    "%%R\n",
    "names(cobertura_brasil)[8] <- 'pop_coberta_ans'"
   ]
  },
  {
   "cell_type": "markdown",
   "metadata": {},
   "source": [
    "### 3.4.3. População \"Vulnerável\"\n",
    "\n",
    "Precisamos ter cuidado neste ponto, pois há um conceito especifico de \"população vulnerável\" dentro da saúde. Apenas para fins didáticos deste workshop chamo de \"vulnerável\" aquela população que *teoricamente* não está coberta nem pela atenção básica, nem pela saúde suplementar.\n",
    "\n",
    "Note que está não é a forma mais correta de se calcular tal indicador, na realidade há diversas discussões na acadêmia sobre tal temática. Aqui possivelmente alguns casos irão ocorrer em valor negativo, isso representará que a cidade em questão tem uma intersecção de cobertura."
   ]
  },
  {
   "cell_type": "code",
   "execution_count": null,
   "metadata": {},
   "outputs": [],
   "source": [
    "%%R\n",
    "cobertura_brasil$pop_vulneravel <- cobertura_brasil$population - \n",
    "  cobertura_brasil$pop_coberta_ab - \n",
    "  cobertura_brasil$pop_coberta_ans"
   ]
  },
  {
   "cell_type": "code",
   "execution_count": null,
   "metadata": {},
   "outputs": [],
   "source": [
    "%%R\n",
    "cobertura_brasil$pop_vulneravel_percent <- (cobertura_brasil$pop_vulneravel/cobertura_brasil$population)*100"
   ]
  },
  {
   "cell_type": "markdown",
   "metadata": {},
   "source": [
    "## 3.5. Custos\n",
    "\n",
    "O orçamento público de saúde é composto de várias fontes pagadoras, para esta análise iremos olhar apenas os valores repassados pelo Governo Federal para os Municípios. Lembrando que hoje, estes valores correspondem em média à 30% do orçamento real dos municípios e estados e é baseado em um conjunto de critérios para definir o valor para cada município. Iremos também olhar para um dos pontos criticos quando falamos de dinheiro, o custo dos procedimentos de alta complexidade.\n",
    "\n",
    "Devido o grande volume de dados relacionados a alta complexidade, iremos trabalhar aqui com dados de apenas 5 estados, um de cada região do país: São Paulo, Rio Grande do Norte, Rio Grande do Sul, Rondônia e Distrito Federal.\n",
    "\n",
    "### 3.5.1. Investimento Fundo a Fundo\n",
    "\n",
    "O objetivo aqui é apenas analisar o uso dos recursos repassados pelo Fundo Nacional de Saúde (FNS) para os municípios. O valor que já representou no passado quase 80% do orçamento de saúde dos municípios, hoje está na média dos 30%."
   ]
  },
  {
   "cell_type": "code",
   "execution_count": null,
   "metadata": {},
   "outputs": [],
   "source": [
    "%%R\n",
    "fns <- read.csv2('dados/custos/investimentos-sus-2012-2017.csv', header = TRUE)"
   ]
  },
  {
   "cell_type": "markdown",
   "metadata": {},
   "source": [
    "Vamos calcular o seguinte: dentre de todos os valores recebidos, qual a porcentagem correspondente à Atenção Básica?"
   ]
  },
  {
   "cell_type": "code",
   "execution_count": null,
   "metadata": {},
   "outputs": [],
   "source": [
    "%%R\n",
    "fns$vlLiquido <- as.numeric(as.character(fns$vlLiquido))\n",
    "\n",
    "fns_reduced <- fns %>%\n",
    "  filter(ANO == 2017) %>%\n",
    "  group_by(MUNICIPIO) %>%\n",
    "  summarise(Total_Investido = sum(vlLiquido))\n",
    "\n",
    "fns_tmp <- fns %>%\n",
    "  filter(ANO == 2017 & nome == 'ATENÇÃO BÁSICA') %>%\n",
    "  select(MUNICIPIO, vlLiquido)"
   ]
  },
  {
   "cell_type": "code",
   "execution_count": null,
   "metadata": {},
   "outputs": [],
   "source": [
    "%%R\n",
    "fns_reduced <- merge(fns_reduced,fns_tmp)\n",
    "\n",
    "names(fns_reduced)[1] <- 'code'\n",
    "names(fns_reduced)[3] <- 'Total_AB'"
   ]
  },
  {
   "cell_type": "code",
   "execution_count": null,
   "metadata": {},
   "outputs": [],
   "source": [
    "%%R\n",
    "fns_reduced$percent_ab <- (fns_reduced$Total_AB/fns_reduced$Total_Investido)*100"
   ]
  },
  {
   "cell_type": "markdown",
   "metadata": {},
   "source": [
    "### 3.5.2. Custo Cirurgico \n",
    "\n",
    "Outro ponto critico financeiramente falando é o faturamento dos procedimentos médicos realizados. Cada procedimento especializado precisa ser primeiramente regulado, neste processo é aprovado o procedimento com um valor máximo associado. Neste ponto do estudo vamos observar as variações de valores de um mesmo procedimento em diversas regiões do país.\n",
    "\n",
    "Os dados que iremos trabalhar foi retirado do SIH referentes à Agosto/2018."
   ]
  },
  {
   "cell_type": "code",
   "execution_count": null,
   "metadata": {},
   "outputs": [],
   "source": [
    "%%R\n",
    "sih <- read.csv2('dados/custos/SIH-Brasil-0818.csv', header = TRUE)"
   ]
  },
  {
   "cell_type": "code",
   "execution_count": null,
   "metadata": {},
   "outputs": [],
   "source": [
    "%%R\n",
    "head(sih)"
   ]
  },
  {
   "cell_type": "markdown",
   "metadata": {},
   "source": [
    "#### 3.5.2.1. Cirurgia Bariatrica (04.07.01.038-6)\n",
    "\n",
    "Valor Máximo SIGTAP : R$ 6.145,00  \n",
    "http://sigtap.datasus.gov.br/tabela-unificada/app/sec/procedimento/exibir/0407010386/11/2018"
   ]
  },
  {
   "cell_type": "code",
   "execution_count": null,
   "metadata": {},
   "outputs": [],
   "source": [
    "%%R\n",
    "sih_bariatrica <- sih %>%\n",
    "  filter(SP_PROCREA == 0407010386) %>%\n",
    "  group_by(SP_UF) %>%\n",
    "  summarise(Media = format(round(mean(SP_VALATO), 2), nsmall = 2)) %>%\n",
    "  mutate(Sigtap = 6145)"
   ]
  },
  {
   "cell_type": "markdown",
   "metadata": {},
   "source": [
    "#### 3.5.2.1. Transplante de Fígado (05.05.02.005-0 - 05.05.02.006-8)\n",
    "\n",
    "Valor Máximo SIGTAP : R$ 68.838,89 (doador falecido)  \n",
    "http://sigtap.datasus.gov.br/tabela-unificada/app/sec/procedimento/exibir/0505020050/11/2018\n",
    "\n",
    "Valor Máximo SIGTAP : R$ 68.803,27 (doador vivo)  \n",
    "http://sigtap.datasus.gov.br/tabela-unificada/app/sec/procedimento/exibir/0505020068/11/2018"
   ]
  },
  {
   "cell_type": "code",
   "execution_count": null,
   "metadata": {},
   "outputs": [],
   "source": [
    "%%R\n",
    "sih_figado <- sih %>%\n",
    "  mutate(\n",
    "    tag = ifelse(SP_PROCREA == 0505020068, 'vivo', \n",
    "      ifelse(SP_PROCREA == 0505020050,'falecido', NA))\n",
    "  ) %>%\n",
    "  filter(SP_PROCREA == 0505020050 | SP_PROCREA == 0505020068) %>%\n",
    "  group_by(SP_UF, tag) %>%\n",
    "  summarise(Media = format(round(mean(SP_VALATO), 2), nsmall = 2))"
   ]
  },
  {
   "cell_type": "markdown",
   "metadata": {},
   "source": [
    "#### 3.5.2.1. Transplante de Cornea (05.05.01.009-7)\n",
    "\n",
    "Valor Máximo SIGTAP : R$ 2.070,00  \n",
    "http://sigtap.datasus.gov.br/tabela-unificada/app/sec/procedimento/exibir/0505010097/11/2018"
   ]
  },
  {
   "cell_type": "code",
   "execution_count": null,
   "metadata": {},
   "outputs": [],
   "source": [
    "%%R\n",
    "sih_cornea <- sih %>%\n",
    "  filter(SP_PROCREA == 0505010097) %>%\n",
    "  group_by(SP_UF) %>%\n",
    "  summarise(Media = format(round(mean(SP_VALATO), 2), nsmall = 2)) %>%\n",
    "  mutate(Sigtap = 2070)"
   ]
  },
  {
   "cell_type": "markdown",
   "metadata": {},
   "source": [
    "#### 3.5.2.1. Transplante de Rins (05.05.02.009-2 - 05.05.02.010-6)\n",
    "\n",
    "Valor Máximo SIGTAP : R$ 27.622,67 (doador falecido)  \n",
    "http://sigtap.datasus.gov.br/tabela-unificada/app/sec/procedimento/exibir/0505020092/11/2018\n",
    "\n",
    "Valor Máximo SIGTAP : R$ 21.238,82 (doador vivo)  \n",
    "http://sigtap.datasus.gov.br/tabela-unificada/app/sec/procedimento/exibir/0505020106/11/2018"
   ]
  },
  {
   "cell_type": "code",
   "execution_count": null,
   "metadata": {},
   "outputs": [],
   "source": [
    "%%R\n",
    "sih_rins <- sih %>%\n",
    "  mutate(\n",
    "    tag = ifelse(SP_PROCREA == 0505020106, 'vivo', \n",
    "      ifelse(SP_PROCREA == 0505020092,'falecido', NA))\n",
    "  ) %>%\n",
    "  filter(SP_PROCREA == 0505020092 | SP_PROCREA == 0505020106) %>%\n",
    "  group_by(SP_UF, tag) %>%\n",
    "  summarise(Media = format(round(mean(SP_VALATO), 2), nsmall = 2))"
   ]
  },
  {
   "cell_type": "markdown",
   "metadata": {},
   "source": [
    "---\n",
    "\n",
    "Obrigado! \n",
    "\n",
    "Espero que você tenha tido a oportunidade de descobrir e aprender algo novo. Se isso aconteceu, eu consegui fazer a minha parte, se não, me avisa que eu posso melhorar.\n",
    "\n",
    "Se desejar, segue os meus contatos:\n",
    "\n",
    "Twitter : https://twitter.com/rodrigo_harry  \n",
    "LinkedIn : https://www.linkedin.com/in/rdsrds/  \n",
    "GitHub : https://github.com/rdsilva  \n",
    "Telegram : @rodrigo_harry"
   ]
  }
 ],
 "metadata": {
  "kernelspec": {
   "display_name": "R",
   "language": "R",
   "name": "ir"
  },
  "language_info": {
   "name": ""
  }
 },
 "nbformat": 4,
 "nbformat_minor": 2
}
