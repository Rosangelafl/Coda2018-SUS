{
  "nbformat": 4,
  "nbformat_minor": 0,
  "metadata": {
    "kernelspec": {
      "display_name": "Python 3",
      "language": "python",
      "name": "python3"
    },
    "language_info": {
      "codemirror_mode": {
        "name": "ipython",
        "version": 3
      },
      "file_extension": ".py",
      "mimetype": "text/x-python",
      "name": "python",
      "nbconvert_exporter": "python",
      "pygments_lexer": "ipython3",
      "version": "3.6.8"
    },
    "colab": {
      "name": "rede_sus-checkpoint.ipynb",
      "provenance": [],
      "include_colab_link": true
    }
  },
  "cells": [
    {
      "cell_type": "markdown",
      "metadata": {
        "id": "view-in-github",
        "colab_type": "text"
      },
      "source": [
        "<a href=\"https://colab.research.google.com/github/Rosangelafl/Coda2018-SUS/blob/master/rede_sus_checkpoint.ipynb\" target=\"_parent\"><img src=\"https://colab.research.google.com/assets/colab-badge.svg\" alt=\"Open In Colab\"/></a>"
      ]
    },
    {
      "cell_type": "code",
      "metadata": {
        "id": "4TSFduPGzaGf",
        "colab_type": "code",
        "colab": {}
      },
      "source": [
        "import pandas as pd\n",
        "import numpy as np"
      ],
      "execution_count": 0,
      "outputs": []
    },
    {
      "cell_type": "code",
      "metadata": {
        "id": "iqgEWowwzkoz",
        "colab_type": "code",
        "colab": {
          "base_uri": "https://localhost:8080/",
          "height": 54
        },
        "outputId": "448c95dc-8d06-46e3-c13b-a4cd4056d78f"
      },
      "source": [
        "from google.colab import drive\n",
        "drive.mount('/content/drive')"
      ],
      "execution_count": 69,
      "outputs": [
        {
          "output_type": "stream",
          "text": [
            "Drive already mounted at /content/drive; to attempt to forcibly remount, call drive.mount(\"/content/drive\", force_remount=True).\n"
          ],
          "name": "stdout"
        }
      ]
    },
    {
      "cell_type": "code",
      "metadata": {
        "id": "f1nA5PW7zaGs",
        "colab_type": "code",
        "colab": {
          "base_uri": "https://localhost:8080/",
          "height": 359
        },
        "outputId": "0eabb301-d2d0-4053-d3cd-9ae8b964eabf"
      },
      "source": [
        "# Dados do Brasil, estados, municípios, população referente dos últimos 20 anos. Os cálculos levam em conta natalidade, \n",
        "#mortalidade e migração populacional.\n",
        "\n",
        "#/content/drive/My Drive/Práticas Integrativas/brazil-population-1998-2017.csv\n",
        "populacao = pd.read_csv('/content/drive/My Drive/Práticas Integrativas/brazil-population-1998-2017.csv', sep=';', encoding='utf8')\n",
        "populacao.head(10)"
      ],
      "execution_count": 70,
      "outputs": [
        {
          "output_type": "execute_result",
          "data": {
            "text/html": [
              "<div>\n",
              "<style scoped>\n",
              "    .dataframe tbody tr th:only-of-type {\n",
              "        vertical-align: middle;\n",
              "    }\n",
              "\n",
              "    .dataframe tbody tr th {\n",
              "        vertical-align: top;\n",
              "    }\n",
              "\n",
              "    .dataframe thead th {\n",
              "        text-align: right;\n",
              "    }\n",
              "</style>\n",
              "<table border=\"1\" class=\"dataframe\">\n",
              "  <thead>\n",
              "    <tr style=\"text-align: right;\">\n",
              "      <th></th>\n",
              "      <th>code</th>\n",
              "      <th>city</th>\n",
              "      <th>state</th>\n",
              "      <th>abbreviation</th>\n",
              "      <th>region</th>\n",
              "      <th>lat</th>\n",
              "      <th>long</th>\n",
              "      <th>year</th>\n",
              "      <th>population</th>\n",
              "    </tr>\n",
              "  </thead>\n",
              "  <tbody>\n",
              "    <tr>\n",
              "      <th>0</th>\n",
              "      <td>110001</td>\n",
              "      <td>Alta Floresta D'Oeste</td>\n",
              "      <td>Rondônia</td>\n",
              "      <td>RO</td>\n",
              "      <td>NORTE</td>\n",
              "      <td>-11.9283</td>\n",
              "      <td>-61.9953</td>\n",
              "      <td>2014</td>\n",
              "      <td>25652</td>\n",
              "    </tr>\n",
              "    <tr>\n",
              "      <th>1</th>\n",
              "      <td>110001</td>\n",
              "      <td>Alta Floresta D'Oeste</td>\n",
              "      <td>Rondônia</td>\n",
              "      <td>RO</td>\n",
              "      <td>NORTE</td>\n",
              "      <td>-11.9283</td>\n",
              "      <td>-61.9953</td>\n",
              "      <td>2015</td>\n",
              "      <td>25578</td>\n",
              "    </tr>\n",
              "    <tr>\n",
              "      <th>2</th>\n",
              "      <td>110001</td>\n",
              "      <td>Alta Floresta D'Oeste</td>\n",
              "      <td>Rondônia</td>\n",
              "      <td>RO</td>\n",
              "      <td>NORTE</td>\n",
              "      <td>-11.9283</td>\n",
              "      <td>-61.9953</td>\n",
              "      <td>2011</td>\n",
              "      <td>24228</td>\n",
              "    </tr>\n",
              "    <tr>\n",
              "      <th>3</th>\n",
              "      <td>110001</td>\n",
              "      <td>Alta Floresta D'Oeste</td>\n",
              "      <td>Rondônia</td>\n",
              "      <td>RO</td>\n",
              "      <td>NORTE</td>\n",
              "      <td>-11.9283</td>\n",
              "      <td>-61.9953</td>\n",
              "      <td>2009</td>\n",
              "      <td>24354</td>\n",
              "    </tr>\n",
              "    <tr>\n",
              "      <th>4</th>\n",
              "      <td>110001</td>\n",
              "      <td>Alta Floresta D'Oeste</td>\n",
              "      <td>Rondônia</td>\n",
              "      <td>RO</td>\n",
              "      <td>NORTE</td>\n",
              "      <td>-11.9283</td>\n",
              "      <td>-61.9953</td>\n",
              "      <td>2006</td>\n",
              "      <td>29005</td>\n",
              "    </tr>\n",
              "    <tr>\n",
              "      <th>5</th>\n",
              "      <td>110001</td>\n",
              "      <td>Alta Floresta D'Oeste</td>\n",
              "      <td>Rondônia</td>\n",
              "      <td>RO</td>\n",
              "      <td>NORTE</td>\n",
              "      <td>-11.9283</td>\n",
              "      <td>-61.9953</td>\n",
              "      <td>2016</td>\n",
              "      <td>25506</td>\n",
              "    </tr>\n",
              "    <tr>\n",
              "      <th>6</th>\n",
              "      <td>110001</td>\n",
              "      <td>Alta Floresta D'Oeste</td>\n",
              "      <td>Rondônia</td>\n",
              "      <td>RO</td>\n",
              "      <td>NORTE</td>\n",
              "      <td>-11.9283</td>\n",
              "      <td>-61.9953</td>\n",
              "      <td>2005</td>\n",
              "      <td>28629</td>\n",
              "    </tr>\n",
              "    <tr>\n",
              "      <th>7</th>\n",
              "      <td>110001</td>\n",
              "      <td>Alta Floresta D'Oeste</td>\n",
              "      <td>Rondônia</td>\n",
              "      <td>RO</td>\n",
              "      <td>NORTE</td>\n",
              "      <td>-11.9283</td>\n",
              "      <td>-61.9953</td>\n",
              "      <td>2003</td>\n",
              "      <td>27563</td>\n",
              "    </tr>\n",
              "    <tr>\n",
              "      <th>8</th>\n",
              "      <td>110001</td>\n",
              "      <td>Alta Floresta D'Oeste</td>\n",
              "      <td>Rondônia</td>\n",
              "      <td>RO</td>\n",
              "      <td>NORTE</td>\n",
              "      <td>-11.9283</td>\n",
              "      <td>-61.9953</td>\n",
              "      <td>2001</td>\n",
              "      <td>26919</td>\n",
              "    </tr>\n",
              "    <tr>\n",
              "      <th>9</th>\n",
              "      <td>110001</td>\n",
              "      <td>Alta Floresta D'Oeste</td>\n",
              "      <td>Rondônia</td>\n",
              "      <td>RO</td>\n",
              "      <td>NORTE</td>\n",
              "      <td>-11.9283</td>\n",
              "      <td>-61.9953</td>\n",
              "      <td>2007</td>\n",
              "      <td>23857</td>\n",
              "    </tr>\n",
              "  </tbody>\n",
              "</table>\n",
              "</div>"
            ],
            "text/plain": [
              "     code                   city     state  ...     long  year  population\n",
              "0  110001  Alta Floresta D'Oeste  Rondônia  ... -61.9953  2014       25652\n",
              "1  110001  Alta Floresta D'Oeste  Rondônia  ... -61.9953  2015       25578\n",
              "2  110001  Alta Floresta D'Oeste  Rondônia  ... -61.9953  2011       24228\n",
              "3  110001  Alta Floresta D'Oeste  Rondônia  ... -61.9953  2009       24354\n",
              "4  110001  Alta Floresta D'Oeste  Rondônia  ... -61.9953  2006       29005\n",
              "5  110001  Alta Floresta D'Oeste  Rondônia  ... -61.9953  2016       25506\n",
              "6  110001  Alta Floresta D'Oeste  Rondônia  ... -61.9953  2005       28629\n",
              "7  110001  Alta Floresta D'Oeste  Rondônia  ... -61.9953  2003       27563\n",
              "8  110001  Alta Floresta D'Oeste  Rondônia  ... -61.9953  2001       26919\n",
              "9  110001  Alta Floresta D'Oeste  Rondônia  ... -61.9953  2007       23857\n",
              "\n",
              "[10 rows x 9 columns]"
            ]
          },
          "metadata": {
            "tags": []
          },
          "execution_count": 70
        }
      ]
    },
    {
      "cell_type": "code",
      "metadata": {
        "id": "xjs9cKaVzaG2",
        "colab_type": "code",
        "colab": {
          "base_uri": "https://localhost:8080/",
          "height": 289
        },
        "outputId": "d5d9fc22-f270-4824-b298-c5b269af3449"
      },
      "source": [
        "populacao.info()"
      ],
      "execution_count": 71,
      "outputs": [
        {
          "output_type": "stream",
          "text": [
            "<class 'pandas.core.frame.DataFrame'>\n",
            "RangeIndex: 111137 entries, 0 to 111136\n",
            "Data columns (total 9 columns):\n",
            " #   Column        Non-Null Count   Dtype  \n",
            "---  ------        --------------   -----  \n",
            " 0   code          111137 non-null  int64  \n",
            " 1   city          111137 non-null  object \n",
            " 2   state         111137 non-null  object \n",
            " 3   abbreviation  111137 non-null  object \n",
            " 4   region        111137 non-null  object \n",
            " 5   lat           111137 non-null  float64\n",
            " 6   long          111137 non-null  float64\n",
            " 7   year          111137 non-null  int64  \n",
            " 8   population    111137 non-null  int64  \n",
            "dtypes: float64(2), int64(3), object(4)\n",
            "memory usage: 7.6+ MB\n"
          ],
          "name": "stdout"
        }
      ]
    },
    {
      "cell_type": "code",
      "metadata": {
        "id": "JgfmkfYnzaG9",
        "colab_type": "code",
        "colab": {}
      },
      "source": [
        "populacao['population'] = populacao['population'].fillna(0).astype(np.float64)"
      ],
      "execution_count": 0,
      "outputs": []
    },
    {
      "cell_type": "code",
      "metadata": {
        "id": "jTmDndJEzaHD",
        "colab_type": "code",
        "colab": {}
      },
      "source": [
        "#populacao.info()"
      ],
      "execution_count": 0,
      "outputs": []
    },
    {
      "cell_type": "code",
      "metadata": {
        "id": "ADDb-U85zaHJ",
        "colab_type": "code",
        "colab": {
          "base_uri": "https://localhost:8080/",
          "height": 80
        },
        "outputId": "8cfb1dcf-f8de-449a-8e96-e6b3cbadfcbb"
      },
      "source": [
        "#qual municipio com mais habitantes\n",
        "\n",
        "populacao[populacao['population'] == populacao['population'].max()]"
      ],
      "execution_count": 74,
      "outputs": [
        {
          "output_type": "execute_result",
          "data": {
            "text/html": [
              "<div>\n",
              "<style scoped>\n",
              "    .dataframe tbody tr th:only-of-type {\n",
              "        vertical-align: middle;\n",
              "    }\n",
              "\n",
              "    .dataframe tbody tr th {\n",
              "        vertical-align: top;\n",
              "    }\n",
              "\n",
              "    .dataframe thead th {\n",
              "        text-align: right;\n",
              "    }\n",
              "</style>\n",
              "<table border=\"1\" class=\"dataframe\">\n",
              "  <thead>\n",
              "    <tr style=\"text-align: right;\">\n",
              "      <th></th>\n",
              "      <th>code</th>\n",
              "      <th>city</th>\n",
              "      <th>state</th>\n",
              "      <th>abbreviation</th>\n",
              "      <th>region</th>\n",
              "      <th>lat</th>\n",
              "      <th>long</th>\n",
              "      <th>year</th>\n",
              "      <th>population</th>\n",
              "    </tr>\n",
              "  </thead>\n",
              "  <tbody>\n",
              "    <tr>\n",
              "      <th>76544</th>\n",
              "      <td>355030</td>\n",
              "      <td>São Paulo</td>\n",
              "      <td>São Paulo</td>\n",
              "      <td>SP</td>\n",
              "      <td>SUDESTE</td>\n",
              "      <td>-23.5329</td>\n",
              "      <td>-46.6395</td>\n",
              "      <td>2017</td>\n",
              "      <td>12106920.0</td>\n",
              "    </tr>\n",
              "  </tbody>\n",
              "</table>\n",
              "</div>"
            ],
            "text/plain": [
              "         code       city      state  ...     long  year  population\n",
              "76544  355030  São Paulo  São Paulo  ... -46.6395  2017  12106920.0\n",
              "\n",
              "[1 rows x 9 columns]"
            ]
          },
          "metadata": {
            "tags": []
          },
          "execution_count": 74
        }
      ]
    },
    {
      "cell_type": "code",
      "metadata": {
        "id": "ODacYhW4zaHQ",
        "colab_type": "code",
        "colab": {
          "base_uri": "https://localhost:8080/",
          "height": 80
        },
        "outputId": "5a7b6617-6625-4d9b-9499-690f26fcc5cf"
      },
      "source": [
        "populacao[populacao['population'] == populacao['population'].min()]"
      ],
      "execution_count": 75,
      "outputs": [
        {
          "output_type": "execute_result",
          "data": {
            "text/html": [
              "<div>\n",
              "<style scoped>\n",
              "    .dataframe tbody tr th:only-of-type {\n",
              "        vertical-align: middle;\n",
              "    }\n",
              "\n",
              "    .dataframe tbody tr th {\n",
              "        vertical-align: top;\n",
              "    }\n",
              "\n",
              "    .dataframe thead th {\n",
              "        text-align: right;\n",
              "    }\n",
              "</style>\n",
              "<table border=\"1\" class=\"dataframe\">\n",
              "  <thead>\n",
              "    <tr style=\"text-align: right;\">\n",
              "      <th></th>\n",
              "      <th>code</th>\n",
              "      <th>city</th>\n",
              "      <th>state</th>\n",
              "      <th>abbreviation</th>\n",
              "      <th>region</th>\n",
              "      <th>lat</th>\n",
              "      <th>long</th>\n",
              "      <th>year</th>\n",
              "      <th>population</th>\n",
              "    </tr>\n",
              "  </thead>\n",
              "  <tbody>\n",
              "    <tr>\n",
              "      <th>7962</th>\n",
              "      <td>171550</td>\n",
              "      <td>Oliveira de Fátima</td>\n",
              "      <td>Tocantins</td>\n",
              "      <td>TO</td>\n",
              "      <td>NORTE</td>\n",
              "      <td>-10.707</td>\n",
              "      <td>-48.9086</td>\n",
              "      <td>2000</td>\n",
              "      <td>697.0</td>\n",
              "    </tr>\n",
              "  </tbody>\n",
              "</table>\n",
              "</div>"
            ],
            "text/plain": [
              "        code                city      state  ...     long  year  population\n",
              "7962  171550  Oliveira de Fátima  Tocantins  ... -48.9086  2000       697.0\n",
              "\n",
              "[1 rows x 9 columns]"
            ]
          },
          "metadata": {
            "tags": []
          },
          "execution_count": 75
        }
      ]
    },
    {
      "cell_type": "code",
      "metadata": {
        "id": "VxyS7WKjzaHY",
        "colab_type": "code",
        "colab": {
          "base_uri": "https://localhost:8080/",
          "height": 51
        },
        "outputId": "040f688e-8df4-41ac-96f1-480b74f6e780"
      },
      "source": [
        "#listas os anos do dataframe\n",
        "populacao['year'].unique()"
      ],
      "execution_count": 76,
      "outputs": [
        {
          "output_type": "execute_result",
          "data": {
            "text/plain": [
              "array([2014, 2015, 2011, 2009, 2006, 2016, 2005, 2003, 2001, 2007, 2000,\n",
              "       1999, 2002, 1998, 2013, 2017, 2008, 2004, 2012, 2010])"
            ]
          },
          "metadata": {
            "tags": []
          },
          "execution_count": 76
        }
      ]
    },
    {
      "cell_type": "code",
      "metadata": {
        "id": "dqzB2R4fzaHg",
        "colab_type": "code",
        "colab": {
          "base_uri": "https://localhost:8080/",
          "height": 204
        },
        "outputId": "4776f1b1-8b55-4b8c-fd5b-2e3b4049a52e"
      },
      "source": [
        "#criar subconjuntos do dataframe original \n",
        "brasil = populacao[populacao['year'] == 2017]\n",
        "brasil.head()"
      ],
      "execution_count": 77,
      "outputs": [
        {
          "output_type": "execute_result",
          "data": {
            "text/html": [
              "<div>\n",
              "<style scoped>\n",
              "    .dataframe tbody tr th:only-of-type {\n",
              "        vertical-align: middle;\n",
              "    }\n",
              "\n",
              "    .dataframe tbody tr th {\n",
              "        vertical-align: top;\n",
              "    }\n",
              "\n",
              "    .dataframe thead th {\n",
              "        text-align: right;\n",
              "    }\n",
              "</style>\n",
              "<table border=\"1\" class=\"dataframe\">\n",
              "  <thead>\n",
              "    <tr style=\"text-align: right;\">\n",
              "      <th></th>\n",
              "      <th>code</th>\n",
              "      <th>city</th>\n",
              "      <th>state</th>\n",
              "      <th>abbreviation</th>\n",
              "      <th>region</th>\n",
              "      <th>lat</th>\n",
              "      <th>long</th>\n",
              "      <th>year</th>\n",
              "      <th>population</th>\n",
              "    </tr>\n",
              "  </thead>\n",
              "  <tbody>\n",
              "    <tr>\n",
              "      <th>15</th>\n",
              "      <td>110001</td>\n",
              "      <td>Alta Floresta D'Oeste</td>\n",
              "      <td>Rondônia</td>\n",
              "      <td>RO</td>\n",
              "      <td>NORTE</td>\n",
              "      <td>-11.92830</td>\n",
              "      <td>-61.9953</td>\n",
              "      <td>2017</td>\n",
              "      <td>25437.0</td>\n",
              "    </tr>\n",
              "    <tr>\n",
              "      <th>36</th>\n",
              "      <td>110002</td>\n",
              "      <td>Ariquemes</td>\n",
              "      <td>Rondônia</td>\n",
              "      <td>RO</td>\n",
              "      <td>NORTE</td>\n",
              "      <td>-9.90571</td>\n",
              "      <td>-63.0325</td>\n",
              "      <td>2017</td>\n",
              "      <td>107345.0</td>\n",
              "    </tr>\n",
              "    <tr>\n",
              "      <th>48</th>\n",
              "      <td>110003</td>\n",
              "      <td>Cabixi</td>\n",
              "      <td>Rondônia</td>\n",
              "      <td>RO</td>\n",
              "      <td>NORTE</td>\n",
              "      <td>-13.49450</td>\n",
              "      <td>-60.5520</td>\n",
              "      <td>2017</td>\n",
              "      <td>6224.0</td>\n",
              "    </tr>\n",
              "    <tr>\n",
              "      <th>76</th>\n",
              "      <td>110004</td>\n",
              "      <td>Cacoal</td>\n",
              "      <td>Rondônia</td>\n",
              "      <td>RO</td>\n",
              "      <td>NORTE</td>\n",
              "      <td>-11.43430</td>\n",
              "      <td>-61.4562</td>\n",
              "      <td>2017</td>\n",
              "      <td>88507.0</td>\n",
              "    </tr>\n",
              "    <tr>\n",
              "      <th>89</th>\n",
              "      <td>110005</td>\n",
              "      <td>Cerejeiras</td>\n",
              "      <td>Rondônia</td>\n",
              "      <td>RO</td>\n",
              "      <td>NORTE</td>\n",
              "      <td>-13.18700</td>\n",
              "      <td>-60.8168</td>\n",
              "      <td>2017</td>\n",
              "      <td>17934.0</td>\n",
              "    </tr>\n",
              "  </tbody>\n",
              "</table>\n",
              "</div>"
            ],
            "text/plain": [
              "      code                   city     state  ...     long  year  population\n",
              "15  110001  Alta Floresta D'Oeste  Rondônia  ... -61.9953  2017     25437.0\n",
              "36  110002              Ariquemes  Rondônia  ... -63.0325  2017    107345.0\n",
              "48  110003                 Cabixi  Rondônia  ... -60.5520  2017      6224.0\n",
              "76  110004                 Cacoal  Rondônia  ... -61.4562  2017     88507.0\n",
              "89  110005             Cerejeiras  Rondônia  ... -60.8168  2017     17934.0\n",
              "\n",
              "[5 rows x 9 columns]"
            ]
          },
          "metadata": {
            "tags": []
          },
          "execution_count": 77
        }
      ]
    },
    {
      "cell_type": "code",
      "metadata": {
        "id": "yiO9yItEzaHl",
        "colab_type": "code",
        "colab": {
          "base_uri": "https://localhost:8080/",
          "height": 34
        },
        "outputId": "1d3d8fe3-2874-4702-816f-4debdbe72181"
      },
      "source": [
        "brasil['population'].sum()"
      ],
      "execution_count": 78,
      "outputs": [
        {
          "output_type": "execute_result",
          "data": {
            "text/plain": [
              "207660929.0"
            ]
          },
          "metadata": {
            "tags": []
          },
          "execution_count": 78
        }
      ]
    },
    {
      "cell_type": "code",
      "metadata": {
        "id": "HJaBg4n0zaHr",
        "colab_type": "code",
        "colab": {
          "base_uri": "https://localhost:8080/",
          "height": 1000
        },
        "outputId": "48d5ad69-d07b-4271-b127-6278129ab1fa"
      },
      "source": [
        "rede_saude = pd.read_csv('/content/drive/My Drive/Práticas Integrativas/tbEstabelecimento201809.csv', sep=';', low_memory=False, encoding='utf-8')\n",
        "rede_saude.head().T"
      ],
      "execution_count": 79,
      "outputs": [
        {
          "output_type": "execute_result",
          "data": {
            "text/html": [
              "<div>\n",
              "<style scoped>\n",
              "    .dataframe tbody tr th:only-of-type {\n",
              "        vertical-align: middle;\n",
              "    }\n",
              "\n",
              "    .dataframe tbody tr th {\n",
              "        vertical-align: top;\n",
              "    }\n",
              "\n",
              "    .dataframe thead th {\n",
              "        text-align: right;\n",
              "    }\n",
              "</style>\n",
              "<table border=\"1\" class=\"dataframe\">\n",
              "  <thead>\n",
              "    <tr style=\"text-align: right;\">\n",
              "      <th></th>\n",
              "      <th>0</th>\n",
              "      <th>1</th>\n",
              "      <th>2</th>\n",
              "      <th>3</th>\n",
              "      <th>4</th>\n",
              "    </tr>\n",
              "  </thead>\n",
              "  <tbody>\n",
              "    <tr>\n",
              "      <th>CO_UNIDADE</th>\n",
              "      <td>2928707453280</td>\n",
              "      <td>2301307450184</td>\n",
              "      <td>2307307462956</td>\n",
              "      <td>2313407462476</td>\n",
              "      <td>2510107416490</td>\n",
              "    </tr>\n",
              "    <tr>\n",
              "      <th>CO_CNES</th>\n",
              "      <td>7453280</td>\n",
              "      <td>7450184</td>\n",
              "      <td>7462956</td>\n",
              "      <td>7462476</td>\n",
              "      <td>7416490</td>\n",
              "    </tr>\n",
              "    <tr>\n",
              "      <th>NU_CNPJ_MANTENEDORA</th>\n",
              "      <td>1.38255e+13</td>\n",
              "      <td>7.53998e+12</td>\n",
              "      <td>NaN</td>\n",
              "      <td>7.73518e+12</td>\n",
              "      <td>8.73963e+12</td>\n",
              "    </tr>\n",
              "    <tr>\n",
              "      <th>TP_PFPJ</th>\n",
              "      <td>3</td>\n",
              "      <td>3</td>\n",
              "      <td>1</td>\n",
              "      <td>3</td>\n",
              "      <td>3</td>\n",
              "    </tr>\n",
              "    <tr>\n",
              "      <th>NIVEL_DEP</th>\n",
              "      <td>3</td>\n",
              "      <td>3</td>\n",
              "      <td>1</td>\n",
              "      <td>3</td>\n",
              "      <td>3</td>\n",
              "    </tr>\n",
              "    <tr>\n",
              "      <th>NO_RAZAO_SOCIAL</th>\n",
              "      <td>PREFEITURA MUNICIPAL DE SANTO ANTONIO DE JESUS</td>\n",
              "      <td>PREFEITURA MUNICIPAL DE SAUDE</td>\n",
              "      <td>CONSULTORIO DE PSICOLOGIA FLAVIA GONCALVES MACEDO</td>\n",
              "      <td>PREFEITURA MUNICIPAL DE TIANGUA</td>\n",
              "      <td>PREFEITURA MUNICIPAL DE NOVA FLORESTA</td>\n",
              "    </tr>\n",
              "    <tr>\n",
              "      <th>NO_FANTASIA</th>\n",
              "      <td>POSTO DE SAUDE MINA DO SAPE</td>\n",
              "      <td>ACADEMIA DA SAUDE DE ARARIPE</td>\n",
              "      <td>CONSULTORIO DE PSICOLOGIA FLAVIA GONCALVES MACEDO</td>\n",
              "      <td>U B S DA FAMILIA VALDO DOURADO NUNES</td>\n",
              "      <td>NUCLEO DE APOIO A SAUDE DA FAMILIA NASF 2</td>\n",
              "    </tr>\n",
              "    <tr>\n",
              "      <th>NO_LOGRADOURO</th>\n",
              "      <td>COMUNIDADE MINA DO SAPE</td>\n",
              "      <td>AV ELISIO ALVES DE ALENCAR</td>\n",
              "      <td>RUA DA CONCEICAO</td>\n",
              "      <td>SITIO ITAGUARUNA</td>\n",
              "      <td>RUA BENEDITO MARINHO</td>\n",
              "    </tr>\n",
              "    <tr>\n",
              "      <th>NU_ENDERECO</th>\n",
              "      <td>S/N</td>\n",
              "      <td>S/N</td>\n",
              "      <td>818</td>\n",
              "      <td>S/N</td>\n",
              "      <td>S/N</td>\n",
              "    </tr>\n",
              "    <tr>\n",
              "      <th>NO_COMPLEMENTO</th>\n",
              "      <td>CASA</td>\n",
              "      <td>NaN</td>\n",
              "      <td>NaN</td>\n",
              "      <td>NaN</td>\n",
              "      <td>NaN</td>\n",
              "    </tr>\n",
              "    <tr>\n",
              "      <th>NO_BAIRRO</th>\n",
              "      <td>ZONA RURAL</td>\n",
              "      <td>CENTRO</td>\n",
              "      <td>CENTRO</td>\n",
              "      <td>SITIO ITAGUARUNA</td>\n",
              "      <td>CENTRO</td>\n",
              "    </tr>\n",
              "    <tr>\n",
              "      <th>CO_CEP</th>\n",
              "      <td>44571000</td>\n",
              "      <td>63170000</td>\n",
              "      <td>63010010</td>\n",
              "      <td>62320000</td>\n",
              "      <td>58178000</td>\n",
              "    </tr>\n",
              "    <tr>\n",
              "      <th>CO_REGIAO_SAUDE</th>\n",
              "      <td>4</td>\n",
              "      <td>20</td>\n",
              "      <td>21</td>\n",
              "      <td>13</td>\n",
              "      <td>004</td>\n",
              "    </tr>\n",
              "    <tr>\n",
              "      <th>CO_MICRO_REGIAO</th>\n",
              "      <td>NaN</td>\n",
              "      <td>20</td>\n",
              "      <td>21</td>\n",
              "      <td>NaN</td>\n",
              "      <td>NaN</td>\n",
              "    </tr>\n",
              "    <tr>\n",
              "      <th>CO_DISTRITO_SANITARIO</th>\n",
              "      <td>NaN</td>\n",
              "      <td>NaN</td>\n",
              "      <td>NaN</td>\n",
              "      <td>NaN</td>\n",
              "      <td>NaN</td>\n",
              "    </tr>\n",
              "    <tr>\n",
              "      <th>CO_DISTRITO_ADMINISTRATIVO</th>\n",
              "      <td>NaN</td>\n",
              "      <td>NaN</td>\n",
              "      <td>NaN</td>\n",
              "      <td>NaN</td>\n",
              "      <td>NaN</td>\n",
              "    </tr>\n",
              "    <tr>\n",
              "      <th>NU_TELEFONE</th>\n",
              "      <td>NaN</td>\n",
              "      <td>8835301159</td>\n",
              "      <td>NaN</td>\n",
              "      <td>NaN</td>\n",
              "      <td>NaN</td>\n",
              "    </tr>\n",
              "    <tr>\n",
              "      <th>NU_FAX</th>\n",
              "      <td>NaN</td>\n",
              "      <td>NaN</td>\n",
              "      <td>NaN</td>\n",
              "      <td>NaN</td>\n",
              "      <td>NaN</td>\n",
              "    </tr>\n",
              "    <tr>\n",
              "      <th>NO_EMAIL</th>\n",
              "      <td>NaN</td>\n",
              "      <td>NaN</td>\n",
              "      <td>NaN</td>\n",
              "      <td>NaN</td>\n",
              "      <td>saude@novafloresta.pb.gov.br</td>\n",
              "    </tr>\n",
              "    <tr>\n",
              "      <th>NU_CPF</th>\n",
              "      <td>NaN</td>\n",
              "      <td>NaN</td>\n",
              "      <td>1.75063e+09</td>\n",
              "      <td>NaN</td>\n",
              "      <td>NaN</td>\n",
              "    </tr>\n",
              "    <tr>\n",
              "      <th>NU_CNPJ</th>\n",
              "      <td>NaN</td>\n",
              "      <td>NaN</td>\n",
              "      <td>NaN</td>\n",
              "      <td>NaN</td>\n",
              "      <td>NaN</td>\n",
              "    </tr>\n",
              "    <tr>\n",
              "      <th>CO_ATIVIDADE</th>\n",
              "      <td>4</td>\n",
              "      <td>4</td>\n",
              "      <td>4</td>\n",
              "      <td>4</td>\n",
              "      <td>4</td>\n",
              "    </tr>\n",
              "    <tr>\n",
              "      <th>CO_CLIENTELA</th>\n",
              "      <td>3</td>\n",
              "      <td>1</td>\n",
              "      <td>1</td>\n",
              "      <td>1</td>\n",
              "      <td>3</td>\n",
              "    </tr>\n",
              "    <tr>\n",
              "      <th>NU_ALVARA</th>\n",
              "      <td>NaN</td>\n",
              "      <td>087/14</td>\n",
              "      <td>0526</td>\n",
              "      <td>832/2015</td>\n",
              "      <td>NaN</td>\n",
              "    </tr>\n",
              "    <tr>\n",
              "      <th>DT_EXPEDICAO</th>\n",
              "      <td>NaN</td>\n",
              "      <td>06-Mar-2014 00:00:00</td>\n",
              "      <td>21-Mar-2014 00:00:00</td>\n",
              "      <td>15-Out-2015 00:00:00</td>\n",
              "      <td>NaN</td>\n",
              "    </tr>\n",
              "    <tr>\n",
              "      <th>TP_ORGAO_EXPEDIDOR</th>\n",
              "      <td>NaN</td>\n",
              "      <td>2</td>\n",
              "      <td>2</td>\n",
              "      <td>NaN</td>\n",
              "      <td>NaN</td>\n",
              "    </tr>\n",
              "    <tr>\n",
              "      <th>DT_VAL_LIC_SANI</th>\n",
              "      <td>NaN</td>\n",
              "      <td>NaN</td>\n",
              "      <td>NaN</td>\n",
              "      <td>31-Dez-2015 00:00:00</td>\n",
              "      <td>NaN</td>\n",
              "    </tr>\n",
              "    <tr>\n",
              "      <th>TP_LIC_SANI</th>\n",
              "      <td>NaN</td>\n",
              "      <td>NaN</td>\n",
              "      <td>NaN</td>\n",
              "      <td>1</td>\n",
              "      <td>NaN</td>\n",
              "    </tr>\n",
              "    <tr>\n",
              "      <th>TP_UNIDADE</th>\n",
              "      <td>1</td>\n",
              "      <td>74</td>\n",
              "      <td>22</td>\n",
              "      <td>2</td>\n",
              "      <td>71</td>\n",
              "    </tr>\n",
              "    <tr>\n",
              "      <th>CO_TURNO_ATENDIMENTO</th>\n",
              "      <td>4</td>\n",
              "      <td>3</td>\n",
              "      <td>3</td>\n",
              "      <td>3</td>\n",
              "      <td>3</td>\n",
              "    </tr>\n",
              "    <tr>\n",
              "      <th>CO_ESTADO_GESTOR</th>\n",
              "      <td>29</td>\n",
              "      <td>23</td>\n",
              "      <td>23</td>\n",
              "      <td>23</td>\n",
              "      <td>25</td>\n",
              "    </tr>\n",
              "    <tr>\n",
              "      <th>CO_MUNICIPIO_GESTOR</th>\n",
              "      <td>292870</td>\n",
              "      <td>230130</td>\n",
              "      <td>230730</td>\n",
              "      <td>231340</td>\n",
              "      <td>251010</td>\n",
              "    </tr>\n",
              "    <tr>\n",
              "      <th>TO_CHAR(DT_ATUALIZACAO,'DD/MM/YYYY')</th>\n",
              "      <td>19/02/2018</td>\n",
              "      <td>18/09/2015</td>\n",
              "      <td>27/12/2017</td>\n",
              "      <td>06/04/2018</td>\n",
              "      <td>01/10/2018</td>\n",
              "    </tr>\n",
              "    <tr>\n",
              "      <th>CO_USUARIO</th>\n",
              "      <td>TAMIRES</td>\n",
              "      <td>0130ARA</td>\n",
              "      <td>GORETTI</td>\n",
              "      <td>ELVER</td>\n",
              "      <td>FCES</td>\n",
              "    </tr>\n",
              "    <tr>\n",
              "      <th>CO_CPFDIRETORCLN</th>\n",
              "      <td>3.41527e+09</td>\n",
              "      <td>1.2422e+09</td>\n",
              "      <td>NaN</td>\n",
              "      <td>1.90413e+09</td>\n",
              "      <td>3.24666e+10</td>\n",
              "    </tr>\n",
              "    <tr>\n",
              "      <th>REG_DIRETORCLN</th>\n",
              "      <td>501491</td>\n",
              "      <td>1774</td>\n",
              "      <td>NaN</td>\n",
              "      <td>170501</td>\n",
              "      <td>NaN</td>\n",
              "    </tr>\n",
              "    <tr>\n",
              "      <th>ST_ADESAO_FILANTROP</th>\n",
              "      <td>NaN</td>\n",
              "      <td>NaN</td>\n",
              "      <td>NaN</td>\n",
              "      <td>NaN</td>\n",
              "      <td>NaN</td>\n",
              "    </tr>\n",
              "    <tr>\n",
              "      <th>CO_MOTIVO_DESAB</th>\n",
              "      <td>NaN</td>\n",
              "      <td>NaN</td>\n",
              "      <td>NaN</td>\n",
              "      <td>NaN</td>\n",
              "      <td>NaN</td>\n",
              "    </tr>\n",
              "    <tr>\n",
              "      <th>NO_URL</th>\n",
              "      <td>NaN</td>\n",
              "      <td>NaN</td>\n",
              "      <td>NaN</td>\n",
              "      <td>NaN</td>\n",
              "      <td>novafloresta.pb.gov.br</td>\n",
              "    </tr>\n",
              "    <tr>\n",
              "      <th>NU_LATITUDE</th>\n",
              "      <td>NaN</td>\n",
              "      <td>-7.213</td>\n",
              "      <td>-7.20411</td>\n",
              "      <td>NaN</td>\n",
              "      <td>-6.455</td>\n",
              "    </tr>\n",
              "    <tr>\n",
              "      <th>NU_LONGITUDE</th>\n",
              "      <td>NaN</td>\n",
              "      <td>-40.046</td>\n",
              "      <td>-39.3153054</td>\n",
              "      <td>NaN</td>\n",
              "      <td>-36.203</td>\n",
              "    </tr>\n",
              "    <tr>\n",
              "      <th>TO_CHAR(DT_ATU_GEO,'DD/MM/YYYY')</th>\n",
              "      <td>NaN</td>\n",
              "      <td>04/09/2018</td>\n",
              "      <td>27/12/2017</td>\n",
              "      <td>NaN</td>\n",
              "      <td>16/01/2018</td>\n",
              "    </tr>\n",
              "    <tr>\n",
              "      <th>NO_USUARIO_GEO</th>\n",
              "      <td>NaN</td>\n",
              "      <td>0130ARA</td>\n",
              "      <td>GORETTI</td>\n",
              "      <td>NaN</td>\n",
              "      <td>FCES</td>\n",
              "    </tr>\n",
              "    <tr>\n",
              "      <th>CO_NATUREZA_JUR</th>\n",
              "      <td>1244</td>\n",
              "      <td>1244</td>\n",
              "      <td>4000</td>\n",
              "      <td>1244</td>\n",
              "      <td>1244</td>\n",
              "    </tr>\n",
              "    <tr>\n",
              "      <th>TP_ESTAB_SEMPRE_ABERTO</th>\n",
              "      <td>NaN</td>\n",
              "      <td>N</td>\n",
              "      <td>N</td>\n",
              "      <td>N</td>\n",
              "      <td>N</td>\n",
              "    </tr>\n",
              "    <tr>\n",
              "      <th>ST_GERACREDITO_GERENTE_SGIF</th>\n",
              "      <td>NaN</td>\n",
              "      <td>NaN</td>\n",
              "      <td>NaN</td>\n",
              "      <td>NaN</td>\n",
              "      <td>NaN</td>\n",
              "    </tr>\n",
              "    <tr>\n",
              "      <th>ST_CONEXAO_INTERNET</th>\n",
              "      <td>N</td>\n",
              "      <td>S</td>\n",
              "      <td>S</td>\n",
              "      <td>N</td>\n",
              "      <td>S</td>\n",
              "    </tr>\n",
              "    <tr>\n",
              "      <th>CO_TIPO_UNIDADE</th>\n",
              "      <td>NaN</td>\n",
              "      <td>NaN</td>\n",
              "      <td>NaN</td>\n",
              "      <td>NaN</td>\n",
              "      <td>NaN</td>\n",
              "    </tr>\n",
              "    <tr>\n",
              "      <th>NO_FANTASIA_ABREV</th>\n",
              "      <td>NaN</td>\n",
              "      <td>NaN</td>\n",
              "      <td>NaN</td>\n",
              "      <td>NaN</td>\n",
              "      <td>NaN</td>\n",
              "    </tr>\n",
              "    <tr>\n",
              "      <th>TP_GESTAO</th>\n",
              "      <td>M</td>\n",
              "      <td>M</td>\n",
              "      <td>M</td>\n",
              "      <td>M</td>\n",
              "      <td>M</td>\n",
              "    </tr>\n",
              "    <tr>\n",
              "      <th>TO_CHAR(DT_ATUALIZACAO_ORIGEM,'DD/MM/YYYY')</th>\n",
              "      <td>03/04/2014</td>\n",
              "      <td>02/04/2014</td>\n",
              "      <td>02/04/2014</td>\n",
              "      <td>02/04/2014</td>\n",
              "      <td>02/04/2014</td>\n",
              "    </tr>\n",
              "  </tbody>\n",
              "</table>\n",
              "</div>"
            ],
            "text/plain": [
              "                                                                                          0  ...                                          4\n",
              "CO_UNIDADE                                                                    2928707453280  ...                              2510107416490\n",
              "CO_CNES                                                                             7453280  ...                                    7416490\n",
              "NU_CNPJ_MANTENEDORA                                                             1.38255e+13  ...                                8.73963e+12\n",
              "TP_PFPJ                                                                                   3  ...                                          3\n",
              "NIVEL_DEP                                                                                 3  ...                                          3\n",
              "NO_RAZAO_SOCIAL                              PREFEITURA MUNICIPAL DE SANTO ANTONIO DE JESUS  ...      PREFEITURA MUNICIPAL DE NOVA FLORESTA\n",
              "NO_FANTASIA                                                     POSTO DE SAUDE MINA DO SAPE  ...  NUCLEO DE APOIO A SAUDE DA FAMILIA NASF 2\n",
              "NO_LOGRADOURO                                                       COMUNIDADE MINA DO SAPE  ...                       RUA BENEDITO MARINHO\n",
              "NU_ENDERECO                                                                             S/N  ...                                        S/N\n",
              "NO_COMPLEMENTO                                                                         CASA  ...                                        NaN\n",
              "NO_BAIRRO                                                                        ZONA RURAL  ...                                     CENTRO\n",
              "CO_CEP                                                                             44571000  ...                                   58178000\n",
              "CO_REGIAO_SAUDE                                                                           4  ...                                        004\n",
              "CO_MICRO_REGIAO                                                                         NaN  ...                                        NaN\n",
              "CO_DISTRITO_SANITARIO                                                                   NaN  ...                                        NaN\n",
              "CO_DISTRITO_ADMINISTRATIVO                                                              NaN  ...                                        NaN\n",
              "NU_TELEFONE                                                                             NaN  ...                                        NaN\n",
              "NU_FAX                                                                                  NaN  ...                                        NaN\n",
              "NO_EMAIL                                                                                NaN  ...               saude@novafloresta.pb.gov.br\n",
              "NU_CPF                                                                                  NaN  ...                                        NaN\n",
              "NU_CNPJ                                                                                 NaN  ...                                        NaN\n",
              "CO_ATIVIDADE                                                                              4  ...                                          4\n",
              "CO_CLIENTELA                                                                              3  ...                                          3\n",
              "NU_ALVARA                                                                               NaN  ...                                        NaN\n",
              "DT_EXPEDICAO                                                                            NaN  ...                                        NaN\n",
              "TP_ORGAO_EXPEDIDOR                                                                      NaN  ...                                        NaN\n",
              "DT_VAL_LIC_SANI                                                                         NaN  ...                                        NaN\n",
              "TP_LIC_SANI                                                                             NaN  ...                                        NaN\n",
              "TP_UNIDADE                                                                                1  ...                                         71\n",
              "CO_TURNO_ATENDIMENTO                                                                      4  ...                                          3\n",
              "CO_ESTADO_GESTOR                                                                         29  ...                                         25\n",
              "CO_MUNICIPIO_GESTOR                                                                  292870  ...                                     251010\n",
              "TO_CHAR(DT_ATUALIZACAO,'DD/MM/YYYY')                                             19/02/2018  ...                                 01/10/2018\n",
              "CO_USUARIO                                                                          TAMIRES  ...                                       FCES\n",
              "CO_CPFDIRETORCLN                                                                3.41527e+09  ...                                3.24666e+10\n",
              "REG_DIRETORCLN                                                                       501491  ...                                        NaN\n",
              "ST_ADESAO_FILANTROP                                                                     NaN  ...                                        NaN\n",
              "CO_MOTIVO_DESAB                                                                         NaN  ...                                        NaN\n",
              "NO_URL                                                                                  NaN  ...                     novafloresta.pb.gov.br\n",
              "NU_LATITUDE                                                                             NaN  ...                                     -6.455\n",
              "NU_LONGITUDE                                                                            NaN  ...                                    -36.203\n",
              "TO_CHAR(DT_ATU_GEO,'DD/MM/YYYY')                                                        NaN  ...                                 16/01/2018\n",
              "NO_USUARIO_GEO                                                                          NaN  ...                                       FCES\n",
              "CO_NATUREZA_JUR                                                                        1244  ...                                       1244\n",
              "TP_ESTAB_SEMPRE_ABERTO                                                                  NaN  ...                                          N\n",
              "ST_GERACREDITO_GERENTE_SGIF                                                             NaN  ...                                        NaN\n",
              "ST_CONEXAO_INTERNET                                                                       N  ...                                          S\n",
              "CO_TIPO_UNIDADE                                                                         NaN  ...                                        NaN\n",
              "NO_FANTASIA_ABREV                                                                       NaN  ...                                        NaN\n",
              "TP_GESTAO                                                                                 M  ...                                          M\n",
              "TO_CHAR(DT_ATUALIZACAO_ORIGEM,'DD/MM/YYYY')                                      03/04/2014  ...                                 02/04/2014\n",
              "\n",
              "[51 rows x 5 columns]"
            ]
          },
          "metadata": {
            "tags": []
          },
          "execution_count": 79
        }
      ]
    },
    {
      "cell_type": "code",
      "metadata": {
        "id": "TBiydNVxzaHw",
        "colab_type": "code",
        "colab": {
          "base_uri": "https://localhost:8080/",
          "height": 1000
        },
        "outputId": "0496b99d-0f29-4cb4-a305-38e38c8d4cb9"
      },
      "source": [
        "rede_saude.info()"
      ],
      "execution_count": 80,
      "outputs": [
        {
          "output_type": "stream",
          "text": [
            "<class 'pandas.core.frame.DataFrame'>\n",
            "RangeIndex: 364701 entries, 0 to 364700\n",
            "Data columns (total 51 columns):\n",
            " #   Column                                       Non-Null Count   Dtype  \n",
            "---  ------                                       --------------   -----  \n",
            " 0   CO_UNIDADE                                   364701 non-null  object \n",
            " 1   CO_CNES                                      364701 non-null  int64  \n",
            " 2   NU_CNPJ_MANTENEDORA                          94451 non-null   float64\n",
            " 3   TP_PFPJ                                      364701 non-null  int64  \n",
            " 4   NIVEL_DEP                                    364701 non-null  int64  \n",
            " 5   NO_RAZAO_SOCIAL                              364700 non-null  object \n",
            " 6   NO_FANTASIA                                  364692 non-null  object \n",
            " 7   NO_LOGRADOURO                                364700 non-null  object \n",
            " 8   NU_ENDERECO                                  364415 non-null  object \n",
            " 9   NO_COMPLEMENTO                               156615 non-null  object \n",
            " 10  NO_BAIRRO                                    364698 non-null  object \n",
            " 11  CO_CEP                                       364701 non-null  int64  \n",
            " 12  CO_REGIAO_SAUDE                              192424 non-null  object \n",
            " 13  CO_MICRO_REGIAO                              14175 non-null   object \n",
            " 14  CO_DISTRITO_SANITARIO                        26335 non-null   object \n",
            " 15  CO_DISTRITO_ADMINISTRATIVO                   4078 non-null    object \n",
            " 16  NU_TELEFONE                                  286873 non-null  object \n",
            " 17  NU_FAX                                       80339 non-null   object \n",
            " 18  NO_EMAIL                                     160197 non-null  object \n",
            " 19  NU_CPF                                       128106 non-null  float64\n",
            " 20  NU_CNPJ                                      145000 non-null  float64\n",
            " 21  CO_ATIVIDADE                                 364701 non-null  int64  \n",
            " 22  CO_CLIENTELA                                 359296 non-null  float64\n",
            " 23  NU_ALVARA                                    248083 non-null  object \n",
            " 24  DT_EXPEDICAO                                 246623 non-null  object \n",
            " 25  TP_ORGAO_EXPEDIDOR                           252274 non-null  float64\n",
            " 26  DT_VAL_LIC_SANI                              74602 non-null   object \n",
            " 27  TP_LIC_SANI                                  74858 non-null   float64\n",
            " 28  TP_UNIDADE                                   364701 non-null  int64  \n",
            " 29  CO_TURNO_ATENDIMENTO                         364006 non-null  float64\n",
            " 30  CO_ESTADO_GESTOR                             364701 non-null  int64  \n",
            " 31  CO_MUNICIPIO_GESTOR                          364701 non-null  int64  \n",
            " 32  TO_CHAR(DT_ATUALIZACAO,'DD/MM/YYYY')         364701 non-null  object \n",
            " 33  CO_USUARIO                                   364701 non-null  object \n",
            " 34  CO_CPFDIRETORCLN                             207549 non-null  float64\n",
            " 35  REG_DIRETORCLN                               134018 non-null  object \n",
            " 36  ST_ADESAO_FILANTROP                          2477 non-null    object \n",
            " 37  CO_MOTIVO_DESAB                              37659 non-null   float64\n",
            " 38  NO_URL                                       3295 non-null    object \n",
            " 39  NU_LATITUDE                                  85916 non-null   float64\n",
            " 40  NU_LONGITUDE                                 86171 non-null   object \n",
            " 41  TO_CHAR(DT_ATU_GEO,'DD/MM/YYYY')             85250 non-null   object \n",
            " 42  NO_USUARIO_GEO                               85079 non-null   object \n",
            " 43  CO_NATUREZA_JUR                              364698 non-null  float64\n",
            " 44  TP_ESTAB_SEMPRE_ABERTO                       198787 non-null  object \n",
            " 45  ST_GERACREDITO_GERENTE_SGIF                  13 non-null      object \n",
            " 46  ST_CONEXAO_INTERNET                          296652 non-null  object \n",
            " 47  CO_TIPO_UNIDADE                              0 non-null       float64\n",
            " 48  NO_FANTASIA_ABREV                            0 non-null       float64\n",
            " 49  TP_GESTAO                                    364701 non-null  object \n",
            " 50  TO_CHAR(DT_ATUALIZACAO_ORIGEM,'DD/MM/YYYY')  364701 non-null  object \n",
            "dtypes: float64(13), int64(8), object(30)\n",
            "memory usage: 141.9+ MB\n"
          ],
          "name": "stdout"
        }
      ]
    },
    {
      "cell_type": "code",
      "metadata": {
        "id": "RquuGutXzaH1",
        "colab_type": "code",
        "colab": {
          "base_uri": "https://localhost:8080/",
          "height": 204
        },
        "outputId": "e93026f7-9d2f-4255-fef1-a99e54dbb670"
      },
      "source": [
        "rede_saude = pd.read_csv('/content/drive/My Drive/Práticas Integrativas/tbEstabelecimento201809.csv', sep=';', encoding='utf8', low_memory=False, usecols=[0, 1, 28, 31, 49])\n",
        "rede_saude.head()"
      ],
      "execution_count": 81,
      "outputs": [
        {
          "output_type": "execute_result",
          "data": {
            "text/html": [
              "<div>\n",
              "<style scoped>\n",
              "    .dataframe tbody tr th:only-of-type {\n",
              "        vertical-align: middle;\n",
              "    }\n",
              "\n",
              "    .dataframe tbody tr th {\n",
              "        vertical-align: top;\n",
              "    }\n",
              "\n",
              "    .dataframe thead th {\n",
              "        text-align: right;\n",
              "    }\n",
              "</style>\n",
              "<table border=\"1\" class=\"dataframe\">\n",
              "  <thead>\n",
              "    <tr style=\"text-align: right;\">\n",
              "      <th></th>\n",
              "      <th>CO_UNIDADE</th>\n",
              "      <th>CO_CNES</th>\n",
              "      <th>TP_UNIDADE</th>\n",
              "      <th>CO_MUNICIPIO_GESTOR</th>\n",
              "      <th>TP_GESTAO</th>\n",
              "    </tr>\n",
              "  </thead>\n",
              "  <tbody>\n",
              "    <tr>\n",
              "      <th>0</th>\n",
              "      <td>2928707453280</td>\n",
              "      <td>7453280</td>\n",
              "      <td>1</td>\n",
              "      <td>292870</td>\n",
              "      <td>M</td>\n",
              "    </tr>\n",
              "    <tr>\n",
              "      <th>1</th>\n",
              "      <td>2301307450184</td>\n",
              "      <td>7450184</td>\n",
              "      <td>74</td>\n",
              "      <td>230130</td>\n",
              "      <td>M</td>\n",
              "    </tr>\n",
              "    <tr>\n",
              "      <th>2</th>\n",
              "      <td>2307307462956</td>\n",
              "      <td>7462956</td>\n",
              "      <td>22</td>\n",
              "      <td>230730</td>\n",
              "      <td>M</td>\n",
              "    </tr>\n",
              "    <tr>\n",
              "      <th>3</th>\n",
              "      <td>2313407462476</td>\n",
              "      <td>7462476</td>\n",
              "      <td>2</td>\n",
              "      <td>231340</td>\n",
              "      <td>M</td>\n",
              "    </tr>\n",
              "    <tr>\n",
              "      <th>4</th>\n",
              "      <td>2510107416490</td>\n",
              "      <td>7416490</td>\n",
              "      <td>71</td>\n",
              "      <td>251010</td>\n",
              "      <td>M</td>\n",
              "    </tr>\n",
              "  </tbody>\n",
              "</table>\n",
              "</div>"
            ],
            "text/plain": [
              "      CO_UNIDADE  CO_CNES  TP_UNIDADE  CO_MUNICIPIO_GESTOR TP_GESTAO\n",
              "0  2928707453280  7453280           1               292870         M\n",
              "1  2301307450184  7450184          74               230130         M\n",
              "2  2307307462956  7462956          22               230730         M\n",
              "3  2313407462476  7462476           2               231340         M\n",
              "4  2510107416490  7416490          71               251010         M"
            ]
          },
          "metadata": {
            "tags": []
          },
          "execution_count": 81
        }
      ]
    },
    {
      "cell_type": "code",
      "metadata": {
        "id": "SYdvAHgRzaH6",
        "colab_type": "code",
        "colab": {
          "base_uri": "https://localhost:8080/",
          "height": 204
        },
        "outputId": "4f364b09-3edb-40dc-850b-eee51b01c824"
      },
      "source": [
        "rede_saude.columns = ['cod_unidades', 'cod_cnes', 'tipo_unidade', 'code','cod_gestao']\n",
        "rede_saude.head()"
      ],
      "execution_count": 82,
      "outputs": [
        {
          "output_type": "execute_result",
          "data": {
            "text/html": [
              "<div>\n",
              "<style scoped>\n",
              "    .dataframe tbody tr th:only-of-type {\n",
              "        vertical-align: middle;\n",
              "    }\n",
              "\n",
              "    .dataframe tbody tr th {\n",
              "        vertical-align: top;\n",
              "    }\n",
              "\n",
              "    .dataframe thead th {\n",
              "        text-align: right;\n",
              "    }\n",
              "</style>\n",
              "<table border=\"1\" class=\"dataframe\">\n",
              "  <thead>\n",
              "    <tr style=\"text-align: right;\">\n",
              "      <th></th>\n",
              "      <th>cod_unidades</th>\n",
              "      <th>cod_cnes</th>\n",
              "      <th>tipo_unidade</th>\n",
              "      <th>code</th>\n",
              "      <th>cod_gestao</th>\n",
              "    </tr>\n",
              "  </thead>\n",
              "  <tbody>\n",
              "    <tr>\n",
              "      <th>0</th>\n",
              "      <td>2928707453280</td>\n",
              "      <td>7453280</td>\n",
              "      <td>1</td>\n",
              "      <td>292870</td>\n",
              "      <td>M</td>\n",
              "    </tr>\n",
              "    <tr>\n",
              "      <th>1</th>\n",
              "      <td>2301307450184</td>\n",
              "      <td>7450184</td>\n",
              "      <td>74</td>\n",
              "      <td>230130</td>\n",
              "      <td>M</td>\n",
              "    </tr>\n",
              "    <tr>\n",
              "      <th>2</th>\n",
              "      <td>2307307462956</td>\n",
              "      <td>7462956</td>\n",
              "      <td>22</td>\n",
              "      <td>230730</td>\n",
              "      <td>M</td>\n",
              "    </tr>\n",
              "    <tr>\n",
              "      <th>3</th>\n",
              "      <td>2313407462476</td>\n",
              "      <td>7462476</td>\n",
              "      <td>2</td>\n",
              "      <td>231340</td>\n",
              "      <td>M</td>\n",
              "    </tr>\n",
              "    <tr>\n",
              "      <th>4</th>\n",
              "      <td>2510107416490</td>\n",
              "      <td>7416490</td>\n",
              "      <td>71</td>\n",
              "      <td>251010</td>\n",
              "      <td>M</td>\n",
              "    </tr>\n",
              "  </tbody>\n",
              "</table>\n",
              "</div>"
            ],
            "text/plain": [
              "    cod_unidades  cod_cnes  tipo_unidade    code cod_gestao\n",
              "0  2928707453280   7453280             1  292870          M\n",
              "1  2301307450184   7450184            74  230130          M\n",
              "2  2307307462956   7462956            22  230730          M\n",
              "3  2313407462476   7462476             2  231340          M\n",
              "4  2510107416490   7416490            71  251010          M"
            ]
          },
          "metadata": {
            "tags": []
          },
          "execution_count": 82
        }
      ]
    },
    {
      "cell_type": "code",
      "metadata": {
        "id": "1egvnJhFzaH_",
        "colab_type": "code",
        "colab": {
          "base_uri": "https://localhost:8080/",
          "height": 34
        },
        "outputId": "ec775843-a455-4ce7-cbda-2fc7f37cc92a"
      },
      "source": [
        "rede_saude['cod_cnes'].count()"
      ],
      "execution_count": 83,
      "outputs": [
        {
          "output_type": "execute_result",
          "data": {
            "text/plain": [
              "364701"
            ]
          },
          "metadata": {
            "tags": []
          },
          "execution_count": 83
        }
      ]
    },
    {
      "cell_type": "code",
      "metadata": {
        "id": "AVSY0rArzaIE",
        "colab_type": "code",
        "colab": {
          "base_uri": "https://localhost:8080/",
          "height": 663
        },
        "outputId": "d7c648c8-ab84-4a7b-9c60-931dfcbd2516"
      },
      "source": [
        "rede_saude['tipo_unidade'].value_counts()"
      ],
      "execution_count": 84,
      "outputs": [
        {
          "output_type": "execute_result",
          "data": {
            "text/plain": [
              "22    180265\n",
              "36     55028\n",
              "2      39253\n",
              "39     27822\n",
              "1      11328\n",
              "4       8770\n",
              "68      6145\n",
              "5       5795\n",
              "42      4769\n",
              "43      3573\n",
              "70      3100\n",
              "50      3048\n",
              "74      2635\n",
              "40      1497\n",
              "81      1304\n",
              "73      1284\n",
              "7       1245\n",
              "71      1200\n",
              "72      1148\n",
              "77       750\n",
              "62       731\n",
              "15       703\n",
              "60       695\n",
              "20       448\n",
              "80       447\n",
              "69       409\n",
              "83       373\n",
              "76       238\n",
              "82       139\n",
              "64       139\n",
              "21       127\n",
              "75        89\n",
              "32        63\n",
              "78        39\n",
              "67        38\n",
              "61        33\n",
              "79        31\n",
              "Name: tipo_unidade, dtype: int64"
            ]
          },
          "metadata": {
            "tags": []
          },
          "execution_count": 84
        }
      ]
    },
    {
      "cell_type": "code",
      "metadata": {
        "id": "i5lihBLhzaIJ",
        "colab_type": "code",
        "colab": {
          "base_uri": "https://localhost:8080/",
          "height": 34
        },
        "outputId": "dd0c1609-008c-4caf-fff2-d9dfd79ea2e1"
      },
      "source": [
        "rede_saude['code'].count()\n"
      ],
      "execution_count": 85,
      "outputs": [
        {
          "output_type": "execute_result",
          "data": {
            "text/plain": [
              "364701"
            ]
          },
          "metadata": {
            "tags": []
          },
          "execution_count": 85
        }
      ]
    },
    {
      "cell_type": "code",
      "metadata": {
        "id": "rZ7FFSub6Al8",
        "colab_type": "code",
        "colab": {
          "base_uri": "https://localhost:8080/",
          "height": 1000
        },
        "outputId": "1a335de2-6269-4087-e62b-fffa8d34b26c"
      },
      "source": [
        "#Traduzindo os códigos SUS dos tipos de unidades\n",
        "#/content/drive/My Drive/Práticas Integrativas/PICs_SUS/cod_atividade.csv\n",
        "tp_unidades = pd.read_csv('/content/drive/My Drive/Práticas Integrativas/PICs_SUS/cod_atividade.csv',sep=',', encoding='Latin1', low_memory=True)\n",
        "tp_unidades\n"
      ],
      "execution_count": 101,
      "outputs": [
        {
          "output_type": "execute_result",
          "data": {
            "text/html": [
              "<div>\n",
              "<style scoped>\n",
              "    .dataframe tbody tr th:only-of-type {\n",
              "        vertical-align: middle;\n",
              "    }\n",
              "\n",
              "    .dataframe tbody tr th {\n",
              "        vertical-align: top;\n",
              "    }\n",
              "\n",
              "    .dataframe thead th {\n",
              "        text-align: right;\n",
              "    }\n",
              "</style>\n",
              "<table border=\"1\" class=\"dataframe\">\n",
              "  <thead>\n",
              "    <tr style=\"text-align: right;\">\n",
              "      <th></th>\n",
              "      <th>cod_unidades</th>\n",
              "      <th>descricao</th>\n",
              "      <th>total</th>\n",
              "    </tr>\n",
              "  </thead>\n",
              "  <tbody>\n",
              "    <tr>\n",
              "      <th>0</th>\n",
              "      <td>1</td>\n",
              "      <td>POSTO DE SAUDE</td>\n",
              "      <td>11328</td>\n",
              "    </tr>\n",
              "    <tr>\n",
              "      <th>1</th>\n",
              "      <td>2</td>\n",
              "      <td>CENTRO DE SAUDE/UNIDADE BASICA</td>\n",
              "      <td>39253</td>\n",
              "    </tr>\n",
              "    <tr>\n",
              "      <th>2</th>\n",
              "      <td>4</td>\n",
              "      <td>POLICLINICA</td>\n",
              "      <td>8770</td>\n",
              "    </tr>\n",
              "    <tr>\n",
              "      <th>3</th>\n",
              "      <td>5</td>\n",
              "      <td>HOSPITAL GERAL</td>\n",
              "      <td>5795</td>\n",
              "    </tr>\n",
              "    <tr>\n",
              "      <th>4</th>\n",
              "      <td>7</td>\n",
              "      <td>HOSPITAL ESPECIALIZADO</td>\n",
              "      <td>1245</td>\n",
              "    </tr>\n",
              "    <tr>\n",
              "      <th>5</th>\n",
              "      <td>15</td>\n",
              "      <td>UNIDADE MISTA</td>\n",
              "      <td>703</td>\n",
              "    </tr>\n",
              "    <tr>\n",
              "      <th>6</th>\n",
              "      <td>20</td>\n",
              "      <td>PRONTO SOCORRO GERAL</td>\n",
              "      <td>344</td>\n",
              "    </tr>\n",
              "    <tr>\n",
              "      <th>7</th>\n",
              "      <td>21</td>\n",
              "      <td>PRONTO SOCORRO ESPECIALIZADO</td>\n",
              "      <td>127</td>\n",
              "    </tr>\n",
              "    <tr>\n",
              "      <th>8</th>\n",
              "      <td>22</td>\n",
              "      <td>CONSULTORIO ISOLADO</td>\n",
              "      <td>180265</td>\n",
              "    </tr>\n",
              "    <tr>\n",
              "      <th>9</th>\n",
              "      <td>32</td>\n",
              "      <td>UNIDADE MOVEL FLUVIAL</td>\n",
              "      <td>63</td>\n",
              "    </tr>\n",
              "    <tr>\n",
              "      <th>10</th>\n",
              "      <td>36</td>\n",
              "      <td>CLINICA/CENTRO DE ESPECIALIDADE</td>\n",
              "      <td>55028</td>\n",
              "    </tr>\n",
              "    <tr>\n",
              "      <th>11</th>\n",
              "      <td>39</td>\n",
              "      <td>UNIDADE DE APOIO DIAGNOSE E TERAPIA (SADT ISOL...</td>\n",
              "      <td>27822</td>\n",
              "    </tr>\n",
              "    <tr>\n",
              "      <th>12</th>\n",
              "      <td>40</td>\n",
              "      <td>UNIDADE MOVEL TERRESTRE</td>\n",
              "      <td>1497</td>\n",
              "    </tr>\n",
              "    <tr>\n",
              "      <th>13</th>\n",
              "      <td>42</td>\n",
              "      <td>UNIDADE MOVEL DE NIVEL PRE-HOSPITALAR NA AREA ...</td>\n",
              "      <td>4769</td>\n",
              "    </tr>\n",
              "    <tr>\n",
              "      <th>14</th>\n",
              "      <td>43</td>\n",
              "      <td>FARMACIA</td>\n",
              "      <td>3573</td>\n",
              "    </tr>\n",
              "    <tr>\n",
              "      <th>15</th>\n",
              "      <td>50</td>\n",
              "      <td>UNIDADE DE VIGILANCIA EM SAUDE</td>\n",
              "      <td>3048</td>\n",
              "    </tr>\n",
              "    <tr>\n",
              "      <th>16</th>\n",
              "      <td>60</td>\n",
              "      <td>COOPERATIVA OU EMPRESA DE CESSAO DE TRABALHADO...</td>\n",
              "      <td>695</td>\n",
              "    </tr>\n",
              "    <tr>\n",
              "      <th>17</th>\n",
              "      <td>61</td>\n",
              "      <td>CENTRO DE PARTO NORMAL  ISOLADO</td>\n",
              "      <td>33</td>\n",
              "    </tr>\n",
              "    <tr>\n",
              "      <th>18</th>\n",
              "      <td>62</td>\n",
              "      <td>HOSPITAL/DIA  ISOLADO</td>\n",
              "      <td>647</td>\n",
              "    </tr>\n",
              "    <tr>\n",
              "      <th>19</th>\n",
              "      <td>67</td>\n",
              "      <td>LABORATORIO CENTRAL DE SAUDE PUBLICA LACEN</td>\n",
              "      <td>33</td>\n",
              "    </tr>\n",
              "    <tr>\n",
              "      <th>20</th>\n",
              "      <td>68</td>\n",
              "      <td>CENTRAL DE GESTAO EM SAUDE</td>\n",
              "      <td>6145</td>\n",
              "    </tr>\n",
              "    <tr>\n",
              "      <th>21</th>\n",
              "      <td>69</td>\n",
              "      <td>CENTRO DE ATENCAO HEMOTERAPIA E OU HEMATOLOGICA</td>\n",
              "      <td>409</td>\n",
              "    </tr>\n",
              "    <tr>\n",
              "      <th>22</th>\n",
              "      <td>70</td>\n",
              "      <td>CENTRO DE ATENCAO PSICOSSOCIAL</td>\n",
              "      <td>3100</td>\n",
              "    </tr>\n",
              "    <tr>\n",
              "      <th>23</th>\n",
              "      <td>71</td>\n",
              "      <td>CENTRO DE APOIO A SAUDE DA FAMILIA</td>\n",
              "      <td>3100</td>\n",
              "    </tr>\n",
              "    <tr>\n",
              "      <th>24</th>\n",
              "      <td>72</td>\n",
              "      <td>UNIDADE DE ATENCAO A SAUDE INDIGENA</td>\n",
              "      <td>1148</td>\n",
              "    </tr>\n",
              "    <tr>\n",
              "      <th>25</th>\n",
              "      <td>73</td>\n",
              "      <td>PRONTO ATENDIMENTO</td>\n",
              "      <td>1284</td>\n",
              "    </tr>\n",
              "    <tr>\n",
              "      <th>26</th>\n",
              "      <td>74</td>\n",
              "      <td>POLO ACADEMIA DA SAUDE</td>\n",
              "      <td>2635</td>\n",
              "    </tr>\n",
              "    <tr>\n",
              "      <th>27</th>\n",
              "      <td>75</td>\n",
              "      <td>TELESSAUDE</td>\n",
              "      <td>89</td>\n",
              "    </tr>\n",
              "    <tr>\n",
              "      <th>28</th>\n",
              "      <td>76</td>\n",
              "      <td>CENTRAL DE REGULACAO MEDICA DAS URGENCIAS</td>\n",
              "      <td>238</td>\n",
              "    </tr>\n",
              "    <tr>\n",
              "      <th>29</th>\n",
              "      <td>77</td>\n",
              "      <td>SERVICO DE ATENCAO DOMICILIAR ISOLADO(HOME CARE)</td>\n",
              "      <td>39</td>\n",
              "    </tr>\n",
              "    <tr>\n",
              "      <th>30</th>\n",
              "      <td>78</td>\n",
              "      <td>UNIDADE DE ATENCAO EM REGIME RESIDENCIAL</td>\n",
              "      <td>39</td>\n",
              "    </tr>\n",
              "    <tr>\n",
              "      <th>31</th>\n",
              "      <td>79</td>\n",
              "      <td>OFICINA ORTOPEDICA</td>\n",
              "      <td>31</td>\n",
              "    </tr>\n",
              "    <tr>\n",
              "      <th>32</th>\n",
              "      <td>80</td>\n",
              "      <td>LABORATORIO DE SAUDE PUBLICA</td>\n",
              "      <td>447</td>\n",
              "    </tr>\n",
              "    <tr>\n",
              "      <th>33</th>\n",
              "      <td>81</td>\n",
              "      <td>CENTRAL DE REGULACAO DO ACESSO</td>\n",
              "      <td>1304</td>\n",
              "    </tr>\n",
              "    <tr>\n",
              "      <th>34</th>\n",
              "      <td>82</td>\n",
              "      <td>CENTRAL DE NOTIFICACAO,CAPTACAO E DISTRIB DE O...</td>\n",
              "      <td>139</td>\n",
              "    </tr>\n",
              "    <tr>\n",
              "      <th>35</th>\n",
              "      <td>83</td>\n",
              "      <td>POLO DE PREVENCAO DE DOENCAS E AGRAVOS E PROMO...</td>\n",
              "      <td>373</td>\n",
              "    </tr>\n",
              "  </tbody>\n",
              "</table>\n",
              "</div>"
            ],
            "text/plain": [
              "    cod_unidades                                          descricao   total\n",
              "0              1                                     POSTO DE SAUDE   11328\n",
              "1              2                     CENTRO DE SAUDE/UNIDADE BASICA   39253\n",
              "2              4                                        POLICLINICA    8770\n",
              "3              5                                     HOSPITAL GERAL    5795\n",
              "4              7                             HOSPITAL ESPECIALIZADO    1245\n",
              "5             15                                      UNIDADE MISTA     703\n",
              "6             20                               PRONTO SOCORRO GERAL     344\n",
              "7             21                       PRONTO SOCORRO ESPECIALIZADO     127\n",
              "8             22                                CONSULTORIO ISOLADO  180265\n",
              "9             32                              UNIDADE MOVEL FLUVIAL      63\n",
              "10            36                    CLINICA/CENTRO DE ESPECIALIDADE   55028\n",
              "11            39  UNIDADE DE APOIO DIAGNOSE E TERAPIA (SADT ISOL...   27822\n",
              "12            40                            UNIDADE MOVEL TERRESTRE    1497\n",
              "13            42  UNIDADE MOVEL DE NIVEL PRE-HOSPITALAR NA AREA ...    4769\n",
              "14            43                                           FARMACIA    3573\n",
              "15            50                     UNIDADE DE VIGILANCIA EM SAUDE    3048\n",
              "16            60  COOPERATIVA OU EMPRESA DE CESSAO DE TRABALHADO...     695\n",
              "17            61                   CENTRO DE PARTO NORMAL  ISOLADO      33\n",
              "18            62                             HOSPITAL/DIA  ISOLADO     647\n",
              "19            67        LABORATORIO CENTRAL DE SAUDE PUBLICA LACEN       33\n",
              "20            68                         CENTRAL DE GESTAO EM SAUDE    6145\n",
              "21            69    CENTRO DE ATENCAO HEMOTERAPIA E OU HEMATOLOGICA     409\n",
              "22            70                     CENTRO DE ATENCAO PSICOSSOCIAL    3100\n",
              "23            71                 CENTRO DE APOIO A SAUDE DA FAMILIA    3100\n",
              "24            72                UNIDADE DE ATENCAO A SAUDE INDIGENA    1148\n",
              "25            73                                 PRONTO ATENDIMENTO    1284\n",
              "26            74                             POLO ACADEMIA DA SAUDE    2635\n",
              "27            75                                         TELESSAUDE      89\n",
              "28            76          CENTRAL DE REGULACAO MEDICA DAS URGENCIAS     238\n",
              "29            77   SERVICO DE ATENCAO DOMICILIAR ISOLADO(HOME CARE)      39\n",
              "30            78           UNIDADE DE ATENCAO EM REGIME RESIDENCIAL      39\n",
              "31            79                                 OFICINA ORTOPEDICA      31\n",
              "32            80                       LABORATORIO DE SAUDE PUBLICA     447\n",
              "33            81                     CENTRAL DE REGULACAO DO ACESSO    1304\n",
              "34            82  CENTRAL DE NOTIFICACAO,CAPTACAO E DISTRIB DE O...     139\n",
              "35            83  POLO DE PREVENCAO DE DOENCAS E AGRAVOS E PROMO...     373"
            ]
          },
          "metadata": {
            "tags": []
          },
          "execution_count": 101
        }
      ]
    },
    {
      "cell_type": "code",
      "metadata": {
        "id": "pxZKBILk8Xa1",
        "colab_type": "code",
        "colab": {}
      },
      "source": [
        "tp_unidades.rename(columns={'cod_unidades': 'tipo_unidade'}, inplace=True)"
      ],
      "execution_count": 0,
      "outputs": []
    },
    {
      "cell_type": "code",
      "metadata": {
        "id": "Gj0jcXAnzaIP",
        "colab_type": "code",
        "colab": {
          "base_uri": "https://localhost:8080/",
          "height": 102
        },
        "outputId": "8a78153e-7fef-400c-b6bf-5682eb403f95"
      },
      "source": [
        "rede_saude['cod_gestao'].value_counts()\n"
      ],
      "execution_count": 94,
      "outputs": [
        {
          "output_type": "execute_result",
          "data": {
            "text/plain": [
              "M    341436\n",
              "E     17059\n",
              "D      6106\n",
              "S       100\n",
              "Name: cod_gestao, dtype: int64"
            ]
          },
          "metadata": {
            "tags": []
          },
          "execution_count": 94
        }
      ]
    },
    {
      "cell_type": "code",
      "metadata": {
        "id": "fTg6HjMkzaIr",
        "colab_type": "code",
        "colab": {
          "base_uri": "https://localhost:8080/",
          "height": 34
        },
        "outputId": "42f3943a-a17c-436f-9a0b-424840eedc96"
      },
      "source": [
        "tp_unidades['total'].sum()\n"
      ],
      "execution_count": 95,
      "outputs": [
        {
          "output_type": "execute_result",
          "data": {
            "text/plain": [
              "365558"
            ]
          },
          "metadata": {
            "tags": []
          },
          "execution_count": 95
        }
      ]
    },
    {
      "cell_type": "code",
      "metadata": {
        "id": "eoiiXdhuM4l5",
        "colab_type": "code",
        "colab": {
          "base_uri": "https://localhost:8080/",
          "height": 187
        },
        "outputId": "d46d8652-ed46-42cb-95f5-043f4c9a3267"
      },
      "source": [
        "tp_unidades.info()"
      ],
      "execution_count": 96,
      "outputs": [
        {
          "output_type": "stream",
          "text": [
            "<class 'pandas.core.frame.DataFrame'>\n",
            "RangeIndex: 36 entries, 0 to 35\n",
            "Data columns (total 3 columns):\n",
            " #   Column        Non-Null Count  Dtype \n",
            "---  ------        --------------  ----- \n",
            " 0   tipo_unidade  36 non-null     int64 \n",
            " 1   descricao     36 non-null     object\n",
            " 2   total         36 non-null     int64 \n",
            "dtypes: int64(2), object(1)\n",
            "memory usage: 992.0+ bytes\n"
          ],
          "name": "stdout"
        }
      ]
    },
    {
      "cell_type": "code",
      "metadata": {
        "id": "eMhd7pOfzaJV",
        "colab_type": "code",
        "colab": {
          "base_uri": "https://localhost:8080/",
          "height": 204
        },
        "outputId": "c5da4705-c953-45c3-ca37-0cee9c36892c"
      },
      "source": [
        "rede_tipo = pd.merge(rede_saude, tp_unidades, on='tipo_unidade')\n",
        "rede_tipo.head()"
      ],
      "execution_count": 98,
      "outputs": [
        {
          "output_type": "execute_result",
          "data": {
            "text/html": [
              "<div>\n",
              "<style scoped>\n",
              "    .dataframe tbody tr th:only-of-type {\n",
              "        vertical-align: middle;\n",
              "    }\n",
              "\n",
              "    .dataframe tbody tr th {\n",
              "        vertical-align: top;\n",
              "    }\n",
              "\n",
              "    .dataframe thead th {\n",
              "        text-align: right;\n",
              "    }\n",
              "</style>\n",
              "<table border=\"1\" class=\"dataframe\">\n",
              "  <thead>\n",
              "    <tr style=\"text-align: right;\">\n",
              "      <th></th>\n",
              "      <th>cod_unidades</th>\n",
              "      <th>cod_cnes</th>\n",
              "      <th>tipo_unidade</th>\n",
              "      <th>code</th>\n",
              "      <th>cod_gestao</th>\n",
              "      <th>descricao</th>\n",
              "      <th>total</th>\n",
              "    </tr>\n",
              "  </thead>\n",
              "  <tbody>\n",
              "    <tr>\n",
              "      <th>0</th>\n",
              "      <td>2928707453280</td>\n",
              "      <td>7453280</td>\n",
              "      <td>1</td>\n",
              "      <td>292870</td>\n",
              "      <td>M</td>\n",
              "      <td>POSTO DE SAUDE</td>\n",
              "      <td>11328</td>\n",
              "    </tr>\n",
              "    <tr>\n",
              "      <th>1</th>\n",
              "      <td>2202707466803</td>\n",
              "      <td>7466803</td>\n",
              "      <td>1</td>\n",
              "      <td>220270</td>\n",
              "      <td>M</td>\n",
              "      <td>POSTO DE SAUDE</td>\n",
              "      <td>11328</td>\n",
              "    </tr>\n",
              "    <tr>\n",
              "      <th>2</th>\n",
              "      <td>3106207467591</td>\n",
              "      <td>7467591</td>\n",
              "      <td>1</td>\n",
              "      <td>310620</td>\n",
              "      <td>M</td>\n",
              "      <td>POSTO DE SAUDE</td>\n",
              "      <td>11328</td>\n",
              "    </tr>\n",
              "    <tr>\n",
              "      <th>3</th>\n",
              "      <td>3161107465823</td>\n",
              "      <td>7465823</td>\n",
              "      <td>1</td>\n",
              "      <td>316110</td>\n",
              "      <td>M</td>\n",
              "      <td>POSTO DE SAUDE</td>\n",
              "      <td>11328</td>\n",
              "    </tr>\n",
              "    <tr>\n",
              "      <th>4</th>\n",
              "      <td>3504907462484</td>\n",
              "      <td>7462484</td>\n",
              "      <td>1</td>\n",
              "      <td>350490</td>\n",
              "      <td>M</td>\n",
              "      <td>POSTO DE SAUDE</td>\n",
              "      <td>11328</td>\n",
              "    </tr>\n",
              "  </tbody>\n",
              "</table>\n",
              "</div>"
            ],
            "text/plain": [
              "    cod_unidades  cod_cnes  tipo_unidade  ...  cod_gestao       descricao  total\n",
              "0  2928707453280   7453280             1  ...           M  POSTO DE SAUDE  11328\n",
              "1  2202707466803   7466803             1  ...           M  POSTO DE SAUDE  11328\n",
              "2  3106207467591   7467591             1  ...           M  POSTO DE SAUDE  11328\n",
              "3  3161107465823   7465823             1  ...           M  POSTO DE SAUDE  11328\n",
              "4  3504907462484   7462484             1  ...           M  POSTO DE SAUDE  11328\n",
              "\n",
              "[5 rows x 7 columns]"
            ]
          },
          "metadata": {
            "tags": []
          },
          "execution_count": 98
        }
      ]
    },
    {
      "cell_type": "code",
      "metadata": {
        "id": "Ud-5A8DLSwk6",
        "colab_type": "code",
        "colab": {
          "base_uri": "https://localhost:8080/",
          "height": 153
        },
        "outputId": "550d2bc7-bbe5-465c-c269-b0049eaab9d5"
      },
      "source": [
        "rede_tipo[rede_tipo['tipo_unidade'] == 1].count()"
      ],
      "execution_count": 100,
      "outputs": [
        {
          "output_type": "execute_result",
          "data": {
            "text/plain": [
              "cod_unidades    11328\n",
              "cod_cnes        11328\n",
              "tipo_unidade    11328\n",
              "code            11328\n",
              "cod_gestao      11328\n",
              "descricao       11328\n",
              "total           11328\n",
              "dtype: int64"
            ]
          },
          "metadata": {
            "tags": []
          },
          "execution_count": 100
        }
      ]
    },
    {
      "cell_type": "code",
      "metadata": {
        "id": "irn6DH1dSzSN",
        "colab_type": "code",
        "colab": {
          "base_uri": "https://localhost:8080/",
          "height": 153
        },
        "outputId": "8d5d9296-c7b3-4d98-ecd5-f347deb807ed"
      },
      "source": [
        "rede_tipo[rede_tipo['tipo_unidade'] == 2].count()"
      ],
      "execution_count": 103,
      "outputs": [
        {
          "output_type": "execute_result",
          "data": {
            "text/plain": [
              "cod_unidades    39253\n",
              "cod_cnes        39253\n",
              "tipo_unidade    39253\n",
              "code            39253\n",
              "cod_gestao      39253\n",
              "descricao       39253\n",
              "total           39253\n",
              "dtype: int64"
            ]
          },
          "metadata": {
            "tags": []
          },
          "execution_count": 103
        }
      ]
    },
    {
      "cell_type": "code",
      "metadata": {
        "id": "t5ZvyUS0Szq4",
        "colab_type": "code",
        "colab": {
          "base_uri": "https://localhost:8080/",
          "height": 153
        },
        "outputId": "ba438bf2-220e-4d1a-b793-f6e48c6d962d"
      },
      "source": [
        "rede_tipo[rede_tipo['tipo_unidade'] == 73].count()"
      ],
      "execution_count": 104,
      "outputs": [
        {
          "output_type": "execute_result",
          "data": {
            "text/plain": [
              "cod_unidades    1284\n",
              "cod_cnes        1284\n",
              "tipo_unidade    1284\n",
              "code            1284\n",
              "cod_gestao      1284\n",
              "descricao       1284\n",
              "total           1284\n",
              "dtype: int64"
            ]
          },
          "metadata": {
            "tags": []
          },
          "execution_count": 104
        }
      ]
    },
    {
      "cell_type": "code",
      "metadata": {
        "id": "vhMqCv0azaJZ",
        "colab_type": "code",
        "colab": {
          "base_uri": "https://localhost:8080/",
          "height": 479
        },
        "outputId": "8944d76c-9dc8-4431-fe6d-3dba8c1f2481"
      },
      "source": [
        "rede_brasil = pd.merge(rede_tipo, brasil, on='code')\n",
        "rede_brasil.head()"
      ],
      "execution_count": 105,
      "outputs": [
        {
          "output_type": "execute_result",
          "data": {
            "text/html": [
              "<div>\n",
              "<style scoped>\n",
              "    .dataframe tbody tr th:only-of-type {\n",
              "        vertical-align: middle;\n",
              "    }\n",
              "\n",
              "    .dataframe tbody tr th {\n",
              "        vertical-align: top;\n",
              "    }\n",
              "\n",
              "    .dataframe thead th {\n",
              "        text-align: right;\n",
              "    }\n",
              "</style>\n",
              "<table border=\"1\" class=\"dataframe\">\n",
              "  <thead>\n",
              "    <tr style=\"text-align: right;\">\n",
              "      <th></th>\n",
              "      <th>cod_unidades</th>\n",
              "      <th>cod_cnes</th>\n",
              "      <th>tipo_unidade</th>\n",
              "      <th>code</th>\n",
              "      <th>cod_gestao</th>\n",
              "      <th>descricao</th>\n",
              "      <th>total</th>\n",
              "      <th>city</th>\n",
              "      <th>state</th>\n",
              "      <th>abbreviation</th>\n",
              "      <th>region</th>\n",
              "      <th>lat</th>\n",
              "      <th>long</th>\n",
              "      <th>year</th>\n",
              "      <th>population</th>\n",
              "    </tr>\n",
              "  </thead>\n",
              "  <tbody>\n",
              "    <tr>\n",
              "      <th>0</th>\n",
              "      <td>2928707453280</td>\n",
              "      <td>7453280</td>\n",
              "      <td>1</td>\n",
              "      <td>292870</td>\n",
              "      <td>M</td>\n",
              "      <td>POSTO DE SAUDE</td>\n",
              "      <td>11328</td>\n",
              "      <td>Santo Antônio de Jesus</td>\n",
              "      <td>Bahia</td>\n",
              "      <td>BA</td>\n",
              "      <td>NORDESTE</td>\n",
              "      <td>-12.9614</td>\n",
              "      <td>-39.2584</td>\n",
              "      <td>2017</td>\n",
              "      <td>103342.0</td>\n",
              "    </tr>\n",
              "    <tr>\n",
              "      <th>1</th>\n",
              "      <td>2928707453337</td>\n",
              "      <td>7453337</td>\n",
              "      <td>1</td>\n",
              "      <td>292870</td>\n",
              "      <td>M</td>\n",
              "      <td>POSTO DE SAUDE</td>\n",
              "      <td>11328</td>\n",
              "      <td>Santo Antônio de Jesus</td>\n",
              "      <td>Bahia</td>\n",
              "      <td>BA</td>\n",
              "      <td>NORDESTE</td>\n",
              "      <td>-12.9614</td>\n",
              "      <td>-39.2584</td>\n",
              "      <td>2017</td>\n",
              "      <td>103342.0</td>\n",
              "    </tr>\n",
              "    <tr>\n",
              "      <th>2</th>\n",
              "      <td>2928707453361</td>\n",
              "      <td>7453361</td>\n",
              "      <td>1</td>\n",
              "      <td>292870</td>\n",
              "      <td>M</td>\n",
              "      <td>POSTO DE SAUDE</td>\n",
              "      <td>11328</td>\n",
              "      <td>Santo Antônio de Jesus</td>\n",
              "      <td>Bahia</td>\n",
              "      <td>BA</td>\n",
              "      <td>NORDESTE</td>\n",
              "      <td>-12.9614</td>\n",
              "      <td>-39.2584</td>\n",
              "      <td>2017</td>\n",
              "      <td>103342.0</td>\n",
              "    </tr>\n",
              "    <tr>\n",
              "      <th>3</th>\n",
              "      <td>2928707453272</td>\n",
              "      <td>7453272</td>\n",
              "      <td>1</td>\n",
              "      <td>292870</td>\n",
              "      <td>M</td>\n",
              "      <td>POSTO DE SAUDE</td>\n",
              "      <td>11328</td>\n",
              "      <td>Santo Antônio de Jesus</td>\n",
              "      <td>Bahia</td>\n",
              "      <td>BA</td>\n",
              "      <td>NORDESTE</td>\n",
              "      <td>-12.9614</td>\n",
              "      <td>-39.2584</td>\n",
              "      <td>2017</td>\n",
              "      <td>103342.0</td>\n",
              "    </tr>\n",
              "    <tr>\n",
              "      <th>4</th>\n",
              "      <td>2928707510454</td>\n",
              "      <td>7510454</td>\n",
              "      <td>1</td>\n",
              "      <td>292870</td>\n",
              "      <td>M</td>\n",
              "      <td>POSTO DE SAUDE</td>\n",
              "      <td>11328</td>\n",
              "      <td>Santo Antônio de Jesus</td>\n",
              "      <td>Bahia</td>\n",
              "      <td>BA</td>\n",
              "      <td>NORDESTE</td>\n",
              "      <td>-12.9614</td>\n",
              "      <td>-39.2584</td>\n",
              "      <td>2017</td>\n",
              "      <td>103342.0</td>\n",
              "    </tr>\n",
              "  </tbody>\n",
              "</table>\n",
              "</div>"
            ],
            "text/plain": [
              "    cod_unidades  cod_cnes  tipo_unidade  ...     long  year population\n",
              "0  2928707453280   7453280             1  ... -39.2584  2017   103342.0\n",
              "1  2928707453337   7453337             1  ... -39.2584  2017   103342.0\n",
              "2  2928707453361   7453361             1  ... -39.2584  2017   103342.0\n",
              "3  2928707453272   7453272             1  ... -39.2584  2017   103342.0\n",
              "4  2928707510454   7510454             1  ... -39.2584  2017   103342.0\n",
              "\n",
              "[5 rows x 15 columns]"
            ]
          },
          "metadata": {
            "tags": []
          },
          "execution_count": 105
        }
      ]
    },
    {
      "cell_type": "code",
      "metadata": {
        "id": "7ZmHZzKKzaJk",
        "colab_type": "code",
        "colab": {
          "base_uri": "https://localhost:8080/",
          "height": 391
        },
        "outputId": "6b51628c-5907-4b6b-a8b1-8e3fa71a7d03"
      },
      "source": [
        "rede_brasil.info()"
      ],
      "execution_count": 106,
      "outputs": [
        {
          "output_type": "stream",
          "text": [
            "<class 'pandas.core.frame.DataFrame'>\n",
            "Int64Index: 364198 entries, 0 to 364197\n",
            "Data columns (total 15 columns):\n",
            " #   Column        Non-Null Count   Dtype  \n",
            "---  ------        --------------   -----  \n",
            " 0   cod_unidades  364198 non-null  object \n",
            " 1   cod_cnes      364198 non-null  int64  \n",
            " 2   tipo_unidade  364198 non-null  int64  \n",
            " 3   code          364198 non-null  int64  \n",
            " 4   cod_gestao    364198 non-null  object \n",
            " 5   descricao     364198 non-null  object \n",
            " 6   total         364198 non-null  int64  \n",
            " 7   city          364198 non-null  object \n",
            " 8   state         364198 non-null  object \n",
            " 9   abbreviation  364198 non-null  object \n",
            " 10  region        364198 non-null  object \n",
            " 11  lat           364198 non-null  float64\n",
            " 12  long          364198 non-null  float64\n",
            " 13  year          364198 non-null  int64  \n",
            " 14  population    364198 non-null  float64\n",
            "dtypes: float64(3), int64(5), object(7)\n",
            "memory usage: 44.5+ MB\n"
          ],
          "name": "stdout"
        }
      ]
    },
    {
      "cell_type": "code",
      "metadata": {
        "id": "W7rau28BzaJr",
        "colab_type": "code",
        "colab": {}
      },
      "source": [
        "#rede_brasil.groupby('state')['cod_cnes'].count()"
      ],
      "execution_count": 0,
      "outputs": []
    },
    {
      "cell_type": "code",
      "metadata": {
        "id": "CaEcTbLuzaJv",
        "colab_type": "code",
        "colab": {
          "base_uri": "https://localhost:8080/",
          "height": 493
        },
        "outputId": "f94b0588-2b08-4fe8-b574-9925a0cbbff3"
      },
      "source": [
        "rede_brasil['state'].value_counts()\n"
      ],
      "execution_count": 107,
      "outputs": [
        {
          "output_type": "execute_result",
          "data": {
            "text/plain": [
              "São Paulo              88012\n",
              "Minas Gerais           45486\n",
              "Rio de Janeiro         27957\n",
              "Rio Grande do Sul      27739\n",
              "Paraná                 27281\n",
              "Bahia                  19060\n",
              "Santa Catarina         18673\n",
              "Ceará                  12659\n",
              "Goiás                  10869\n",
              "Pernambuco             10473\n",
              "Espírito Santo          8133\n",
              "Pará                    7795\n",
              "Mato Grosso             6826\n",
              "Paraíba                 6758\n",
              "Distrito Federal        6708\n",
              "Maranhão                6105\n",
              "Mato Grosso do Sul      5526\n",
              "Rio Grande do Norte     4975\n",
              "Piauí                   4375\n",
              "Sergipe                 3925\n",
              "Alagoas                 3759\n",
              "Rondônia                3445\n",
              "Amazonas                2814\n",
              "Tocantins               2106\n",
              "Acre                    1055\n",
              "Roraima                  976\n",
              "Amapá                    708\n",
              "Name: state, dtype: int64"
            ]
          },
          "metadata": {
            "tags": []
          },
          "execution_count": 107
        }
      ]
    },
    {
      "cell_type": "code",
      "metadata": {
        "id": "dIBZKpenzaJz",
        "colab_type": "code",
        "colab": {}
      },
      "source": [
        "rede_state = rede_brasil['state'].value_counts()"
      ],
      "execution_count": 0,
      "outputs": []
    },
    {
      "cell_type": "code",
      "metadata": {
        "id": "BZ21bvgRzaJ3",
        "colab_type": "code",
        "colab": {}
      },
      "source": [
        ""
      ],
      "execution_count": 0,
      "outputs": []
    },
    {
      "cell_type": "code",
      "metadata": {
        "id": "XAuWVdvizaJ9",
        "colab_type": "code",
        "colab": {}
      },
      "source": [
        ""
      ],
      "execution_count": 0,
      "outputs": []
    }
  ]
}